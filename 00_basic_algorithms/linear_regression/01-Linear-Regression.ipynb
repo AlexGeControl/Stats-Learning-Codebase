{
 "cells": [
  {
   "cell_type": "markdown",
   "metadata": {
    "deletable": true,
    "editable": true
   },
   "source": [
    "# ColumbiaX-01-Linear-Regression"
   ]
  },
  {
   "cell_type": "markdown",
   "metadata": {
    "deletable": true,
    "editable": true
   },
   "source": [
    "## Set Up Session"
   ]
  },
  {
   "cell_type": "code",
   "execution_count": 1,
   "metadata": {
    "collapsed": true,
    "deletable": true,
    "editable": true
   },
   "outputs": [],
   "source": [
    "import numpy as np"
   ]
  },
  {
   "cell_type": "markdown",
   "metadata": {
    "deletable": true,
    "editable": true
   },
   "source": [
    "## Data Generation"
   ]
  },
  {
   "cell_type": "code",
   "execution_count": 2,
   "metadata": {
    "collapsed": true,
    "deletable": true,
    "editable": true
   },
   "outputs": [],
   "source": [
    "# Parameters:\n",
    "w_lambda = 2  \n",
    "y_sigma2 = 3"
   ]
  },
  {
   "cell_type": "code",
   "execution_count": 3,
   "metadata": {
    "collapsed": true,
    "deletable": true,
    "editable": true
   },
   "outputs": [],
   "source": [
    "# Configuration:\n",
    "N, D = (1024, 42)"
   ]
  },
  {
   "cell_type": "code",
   "execution_count": 4,
   "metadata": {
    "collapsed": true,
    "deletable": true,
    "editable": true
   },
   "outputs": [],
   "source": [
    "# Generate weights:\n",
    "w_mu = np.random.randn(D + 1)\n",
    "w_cov = 1.0 / w_lambda * np.eye(D + 1)\n",
    "w = np.random.multivariate_normal(w_mu, w_cov)\n",
    "# Set bias:\n",
    "w[-1] = w[-1] + 3"
   ]
  },
  {
   "cell_type": "code",
   "execution_count": 5,
   "metadata": {
    "collapsed": false,
    "deletable": true,
    "editable": true
   },
   "outputs": [],
   "source": [
    "# Generate samples:\n",
    "X = np.concatenate(\n",
    "    (np.random.randn(N, D), np.ones(shape=(N, 1))),\n",
    "    axis = 1\n",
    ")"
   ]
  },
  {
   "cell_type": "code",
   "execution_count": 6,
   "metadata": {
    "collapsed": true,
    "deletable": true,
    "editable": true
   },
   "outputs": [],
   "source": [
    "# Generate observations:\n",
    "y_mu = np.matmul(X, w)\n",
    "y_cov = y_sigma2 * np.eye(N)\n",
    "y = np.random.multivariate_normal(y_mu, y_cov)"
   ]
  },
  {
   "cell_type": "code",
   "execution_count": 7,
   "metadata": {
    "collapsed": true,
    "deletable": true,
    "editable": true
   },
   "outputs": [],
   "source": [
    "# Train-test split:\n",
    "from sklearn.model_selection import train_test_split\n",
    "\n",
    "X_train, X_test, y_train, y_test = train_test_split(\n",
    "    X, y,\n",
    "    test_size = 0.1, random_state = 42\n",
    ")"
   ]
  },
  {
   "cell_type": "code",
   "execution_count": 8,
   "metadata": {
    "collapsed": false,
    "deletable": true,
    "editable": true
   },
   "outputs": [],
   "source": [
    "# Save data for command-line application:\n",
    "import pandas as pd\n",
    "\n",
    "pd.DataFrame(data = X_train).to_csv('X_train.csv', index=False, header=False)\n",
    "pd.DataFrame(data = y_train).to_csv('y_train.csv', index=False, header=False)\n",
    "pd.DataFrame(data = X_test).to_csv('X_test.csv', index=False, header=False)"
   ]
  },
  {
   "cell_type": "markdown",
   "metadata": {
    "deletable": true,
    "editable": true
   },
   "source": [
    "## Posterior Estimation"
   ]
  },
  {
   "cell_type": "code",
   "execution_count": 9,
   "metadata": {
    "collapsed": true,
    "deletable": true,
    "editable": true
   },
   "outputs": [],
   "source": [
    "# Posterior covariance matrix:\n",
    "w_cov_posterior = np.linalg.pinv(w_lambda + np.matmul(X_train.T, X_train) / y_sigma2)"
   ]
  },
  {
   "cell_type": "markdown",
   "metadata": {
    "deletable": true,
    "editable": true
   },
   "source": [
    "## Ridge Regression\n",
    "\n",
    "Given samples and observations, solve the following ridge regression problem under the given generation & observation noises\n",
    "\n",
    "$$\n",
    "w_{RR} = \\arg\\min_w \\|y - Xw\\|^2 + \\lambda\\|w\\|^2.\n",
    "$$\n",
    "\n",
    "Which is\n",
    "\n",
    "$$\n",
    "w_{RR} = (\\lambda\\sigma^2I + X^TX)^{-1}X^Ty\n",
    "$$"
   ]
  },
  {
   "cell_type": "code",
   "execution_count": 10,
   "metadata": {
    "collapsed": false,
    "deletable": true,
    "editable": true
   },
   "outputs": [],
   "source": [
    "# Solve it:\n",
    "w_rr = np.matmul(\n",
    "    w_cov_posterior / y_sigma2,\n",
    "    np.matmul(\n",
    "        X_train.T,\n",
    "        y_train\n",
    "    )\n",
    ")"
   ]
  },
  {
   "cell_type": "code",
   "execution_count": 11,
   "metadata": {
    "collapsed": false,
    "deletable": true,
    "editable": true
   },
   "outputs": [
    {
     "name": "stdout",
     "output_type": "stream",
     "text": [
      "[Relative Error (L2-Norm)]: 6.16%\n"
     ]
    }
   ],
   "source": [
    "# Relative error, l2-norm:\n",
    "print \"[Relative Error (L2-Norm)]: {:.2f}%\".format(\n",
    "    100.0 * np.linalg.norm(w_rr - w) / np.linalg.norm(w)\n",
    ")"
   ]
  },
  {
   "cell_type": "markdown",
   "metadata": {
    "deletable": true,
    "editable": true
   },
   "source": [
    "## Active Learning"
   ]
  },
  {
   "cell_type": "code",
   "execution_count": 12,
   "metadata": {
    "collapsed": false,
    "deletable": true,
    "editable": true
   },
   "outputs": [],
   "source": [
    "# Posterior estimation variance:\n",
    "y_sigma2_posterior = np.asarray(\n",
    "    [\n",
    "        np.matmul(\n",
    "            x,\n",
    "            np.matmul(\n",
    "                w_cov_posterior,\n",
    "                x.T\n",
    "            )\n",
    "        ) \n",
    "        for x in X_test\n",
    "    ]\n",
    ")"
   ]
  },
  {
   "cell_type": "code",
   "execution_count": 13,
   "metadata": {
    "collapsed": true,
    "deletable": true,
    "editable": true
   },
   "outputs": [],
   "source": [
    "# Select top 10:\n",
    "probe_sequence = 1 + np.argsort(y_sigma2_posterior)[::-1][:10]"
   ]
  },
  {
   "cell_type": "markdown",
   "metadata": {
    "deletable": true,
    "editable": true
   },
   "source": [
    "## Generate Output"
   ]
  },
  {
   "cell_type": "code",
   "execution_count": 14,
   "metadata": {
    "collapsed": false,
    "deletable": true,
    "editable": true
   },
   "outputs": [],
   "source": [
    "# Ridge regression weights:\n",
    "w_rr_output_name = \"wRR_{w_lambda}.csv\".format(w_lambda=w_lambda)\n",
    "with open(w_rr_output_name, \"w\") as w_rr_output:\n",
    "    w_rr_output.write(\"%s\" % \"\\n\".join(str(w_rr_val) for w_rr_val in w_rr))"
   ]
  },
  {
   "cell_type": "code",
   "execution_count": 15,
   "metadata": {
    "collapsed": false,
    "deletable": true,
    "editable": true
   },
   "outputs": [],
   "source": [
    "# Active learning probe sequence:\n",
    "probe_seq_output_name = \"active_{w_lambda}_{y_sigma2}.csv\".format(w_lambda=w_lambda, y_sigma2=y_sigma2)\n",
    "with open(probe_seq_output_name, \"w\") as probe_seq_output:\n",
    "    probe_seq_output.write(\"%s\" % \",\".join(str(probe_sequence_idx) for probe_sequence_idx in probe_sequence))"
   ]
  }
 ],
 "metadata": {
  "kernelspec": {
   "display_name": "Python 2",
   "language": "python",
   "name": "python2"
  },
  "language_info": {
   "codemirror_mode": {
    "name": "ipython",
    "version": 2
   },
   "file_extension": ".py",
   "mimetype": "text/x-python",
   "name": "python",
   "nbconvert_exporter": "python",
   "pygments_lexer": "ipython2",
   "version": "2.7.12"
  }
 },
 "nbformat": 4,
 "nbformat_minor": 2
}
