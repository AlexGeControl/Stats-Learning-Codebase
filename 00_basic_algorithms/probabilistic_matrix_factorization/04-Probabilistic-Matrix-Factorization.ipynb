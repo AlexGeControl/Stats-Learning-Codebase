{
 "cells": [
  {
   "cell_type": "markdown",
   "metadata": {
    "deletable": true,
    "editable": true
   },
   "source": [
    "# ColumbiaX-04-Probabilistic-Matrix-Factorization"
   ]
  },
  {
   "cell_type": "markdown",
   "metadata": {},
   "source": [
    "## Set Up Session"
   ]
  },
  {
   "cell_type": "code",
   "execution_count": 1,
   "metadata": {
    "collapsed": true
   },
   "outputs": [],
   "source": [
    "import numpy as np"
   ]
  },
  {
   "cell_type": "markdown",
   "metadata": {},
   "source": [
    "## Data Generation"
   ]
  },
  {
   "cell_type": "code",
   "execution_count": 2,
   "metadata": {
    "collapsed": true
   },
   "outputs": [],
   "source": [
    "# Config:\n",
    "d = 5\n",
    "o_sigma2 = 0.1\n",
    "h_lambda = 2"
   ]
  },
  {
   "cell_type": "code",
   "execution_count": 3,
   "metadata": {
    "collapsed": true
   },
   "outputs": [],
   "source": [
    "# Number of users & objects:\n",
    "N_u = 6\n",
    "N_v = 8"
   ]
  },
  {
   "cell_type": "code",
   "execution_count": 4,
   "metadata": {
    "collapsed": false
   },
   "outputs": [],
   "source": [
    "# Generate user & object\n",
    "h_mu = np.zeros(d)\n",
    "h_cov = 1.0 / h_lambda * np.eye(d)\n",
    "U = np.random.multivariate_normal(mean=h_mu, cov=h_cov, size=N_u)\n",
    "V = np.random.multivariate_normal(mean=h_mu, cov=h_cov, size=N_v)"
   ]
  },
  {
   "cell_type": "code",
   "execution_count": 5,
   "metadata": {
    "collapsed": false
   },
   "outputs": [],
   "source": [
    "# Number of observations:\n",
    "N_o = np.random.randint(N_u*N_v)"
   ]
  },
  {
   "cell_type": "code",
   "execution_count": 6,
   "metadata": {
    "collapsed": false
   },
   "outputs": [],
   "source": [
    "# Generate observations:\n",
    "index = np.unique(\n",
    "    np.random.randint(N_u*N_v, size=N_o)\n",
    ")\n",
    "user_index, object_index = index / N_v, index % N_v\n",
    "\n",
    "o_sigma = np.sqrt(o_sigma2)\n",
    "rating = np.asarray(\n",
    "    [\n",
    "        np.random.normal(\n",
    "            loc = np.sum(U[u]*V[o]),\n",
    "            scale = o_sigma2\n",
    "        ) for u, o in zip(user_index, object_index)\n",
    "    ]\n",
    ")\n",
    "\n",
    "O = np.zeros((N_u, N_v))\n",
    "for u, o, r in zip(user_index, object_index, rating):\n",
    "    O[u, o] = r"
   ]
  },
  {
   "cell_type": "code",
   "execution_count": 7,
   "metadata": {
    "collapsed": false
   },
   "outputs": [],
   "source": [
    "# Generate dataset:\n",
    "import pandas as pd\n",
    "\n",
    "df_rating = pd.DataFrame(\n",
    "    {\n",
    "        'user_index': user_index+1, \n",
    "        'object_index': object_index+1, \n",
    "        'rating': rating\n",
    "    }\n",
    ")[['user_index', 'object_index', 'rating']]\n",
    "\n",
    "df_rating.to_csv('ratings.csv', index=False, header=False)"
   ]
  },
  {
   "cell_type": "markdown",
   "metadata": {},
   "source": [
    "## Probabilistic Matrix Factorization\n",
    "\n",
    "$$\n",
    "\\mathcal{L} = -\\sum_{(i,j)\\in\\Omega} \\frac{1}{2\\sigma^2}(M_{ij} - u_i^Tv_j)^2  - \\sum_{i=1}^{N_u}\\frac{\\lambda}{2}\\|u_i\\|^2 - \\sum_{j=1}^{N_v}\\frac{\\lambda}{2}\\|v_j\\|^2\n",
    "$$"
   ]
  },
  {
   "cell_type": "code",
   "execution_count": 8,
   "metadata": {
    "collapsed": true
   },
   "outputs": [],
   "source": [
    "## Parse ratings:\n",
    "def parse_ratings(filename):\n",
    "    with open(filename) as f:\n",
    "        lines = f.readlines()\n",
    "    ratings = np.asarray(\n",
    "        [[float(val) for val in line.split(\",\")] for line in lines]\n",
    "    )\n",
    "    return ratings\n",
    "# 'ratings.csv'\n",
    "X = parse_ratings('ratings.csv')"
   ]
  },
  {
   "cell_type": "code",
   "execution_count": 9,
   "metadata": {
    "collapsed": false
   },
   "outputs": [],
   "source": [
    "# Parse user & object index:\n",
    "pmf_object_mapping, pmf_user_mapping = {}, {}\n",
    "pmf_rating_mapping = {}\n",
    "for pmf_user_index, pmf_object_index, pmf_rating in zip(\n",
    "    X[:, 0].astype(np.int)-1, \n",
    "    X[:, 1].astype(np.int)-1,\n",
    "    X[:, 2]\n",
    "):\n",
    "    # Update object mapping:\n",
    "    object_list = pmf_object_mapping.get(pmf_user_index, [])\n",
    "    object_list.append(pmf_object_index)\n",
    "    pmf_object_mapping[pmf_user_index] = object_list\n",
    "    # Update user mapping:\n",
    "    user_list = pmf_user_mapping.get(pmf_object_index, [])\n",
    "    user_list.append(pmf_user_index)\n",
    "    pmf_user_mapping[pmf_object_index] = user_list\n",
    "    # Update pmf_rating:\n",
    "    pmf_rating_mapping[(pmf_user_index, pmf_object_index)] = pmf_rating"
   ]
  },
  {
   "cell_type": "code",
   "execution_count": 10,
   "metadata": {
    "collapsed": false
   },
   "outputs": [],
   "source": [
    "# Get the number of users & objects:\n",
    "pmf_N_u, pmf_N_v = max(pmf_object_mapping.keys())+1, max(pmf_user_mapping.keys())+1"
   ]
  },
  {
   "cell_type": "code",
   "execution_count": 11,
   "metadata": {
    "collapsed": true
   },
   "outputs": [],
   "source": [
    "# Maximum number of iterations:\n",
    "MAX_ITER = 50"
   ]
  },
  {
   "cell_type": "code",
   "execution_count": 12,
   "metadata": {
    "collapsed": false
   },
   "outputs": [],
   "source": [
    "# Initialize object matrix:\n",
    "pmf_U = np.zeros((pmf_N_u, d))\n",
    "pmf_h_mu = np.zeros(d)\n",
    "pmf_h_cov = 1.0 / h_lambda * np.eye(d)\n",
    "pmf_V = np.random.multivariate_normal(mean=pmf_h_mu, cov=pmf_h_cov, size = pmf_N_v)"
   ]
  },
  {
   "cell_type": "code",
   "execution_count": 13,
   "metadata": {
    "collapsed": false
   },
   "outputs": [],
   "source": [
    "# Probabilistic matrix factorization:\n",
    "for epoch in xrange(MAX_ITER):\n",
    "    # Update user matrix:\n",
    "    for pmf_user_index in pmf_object_mapping.keys():\n",
    "        pmf_object_list = pmf_object_mapping[pmf_user_index]\n",
    "        pmf_U[pmf_user_index] = np.matmul(\n",
    "            np.linalg.pinv(\n",
    "                np.matmul(pmf_V[pmf_object_list].T, pmf_V[pmf_object_list]) + h_lambda * o_sigma2\n",
    "            ),\n",
    "            np.matmul(\n",
    "                pmf_V[pmf_object_list].T,\n",
    "                np.asarray([pmf_rating_mapping[(pmf_user_index, o)] for o in pmf_object_list])\n",
    "            )\n",
    "        )\n",
    "    # Update user matrix:\n",
    "    for pmf_object_index in pmf_user_mapping.keys():\n",
    "        pmf_user_list = pmf_user_mapping[pmf_object_index]\n",
    "        pmf_V[pmf_object_index] = np.matmul(\n",
    "            np.linalg.pinv(\n",
    "                np.matmul(pmf_U[pmf_user_list].T, pmf_U[pmf_user_list]) + h_lambda * o_sigma2\n",
    "            ),\n",
    "            np.matmul(\n",
    "                pmf_U[pmf_user_list].T,\n",
    "                np.asarray([pmf_rating_mapping[(u, pmf_object_index)] for u in pmf_user_list])\n",
    "            )\n",
    "        )"
   ]
  },
  {
   "cell_type": "markdown",
   "metadata": {},
   "source": [
    "## Evaluate PMF Performance"
   ]
  },
  {
   "cell_type": "code",
   "execution_count": 15,
   "metadata": {
    "collapsed": true
   },
   "outputs": [],
   "source": [
    "# Prediction matrix:\n",
    "pmf_O = np.matmul(\n",
    "    pmf_U,\n",
    "    pmf_V.T\n",
    ")"
   ]
  },
  {
   "cell_type": "code",
   "execution_count": 17,
   "metadata": {
    "collapsed": false
   },
   "outputs": [
    {
     "name": "stdout",
     "output_type": "stream",
     "text": [
      "[PMF Error]: 0.000\n",
      "[PMF Error]: 0.000\n",
      "[PMF Error]: 0.000\n",
      "[PMF Error]: 0.000\n",
      "[PMF Error]: 0.000\n",
      "[PMF Error]: 0.000\n",
      "[PMF Error]: 0.000\n",
      "[PMF Error]: 0.000\n",
      "[PMF Error]: 0.000\n",
      "[PMF Error]: 0.000\n",
      "[PMF Error]: 0.000\n",
      "[PMF Error]: 0.000\n",
      "[PMF Error]: 0.000\n",
      "[PMF Error]: 0.000\n",
      "[PMF Error]: 0.000\n",
      "[PMF Error]: 0.000\n",
      "[PMF Error]: 0.000\n",
      "[PMF Error]: 0.000\n",
      "[PMF Error]: 0.000\n",
      "[PMF Error]: 0.000\n",
      "[PMF Error]: 0.000\n"
     ]
    }
   ],
   "source": [
    "# Evaluate PMF performance:\n",
    "for pmf_user_index, pmf_object_index, pmf_rating in zip(\n",
    "    X[:, 0].astype(np.int)-1, \n",
    "    X[:, 1].astype(np.int)-1,\n",
    "    X[:, 2]\n",
    "):\n",
    "    print \"[PMF Error]: {:.3f}\".format(\n",
    "        np.abs(pmf_rating-pmf_O[pmf_user_index, pmf_object_index])\n",
    "    )"
   ]
  }
 ],
 "metadata": {
  "kernelspec": {
   "display_name": "Python 2",
   "language": "python",
   "name": "python2"
  },
  "language_info": {
   "codemirror_mode": {
    "name": "ipython",
    "version": 2
   },
   "file_extension": ".py",
   "mimetype": "text/x-python",
   "name": "python",
   "nbconvert_exporter": "python",
   "pygments_lexer": "ipython2",
   "version": "2.7.12"
  }
 },
 "nbformat": 4,
 "nbformat_minor": 2
}
