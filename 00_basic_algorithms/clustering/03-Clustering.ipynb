{
 "cells": [
  {
   "cell_type": "markdown",
   "metadata": {},
   "source": [
    "# ColumbiaX-03-Clustering"
   ]
  },
  {
   "cell_type": "markdown",
   "metadata": {},
   "source": [
    "## Set Up Session"
   ]
  },
  {
   "cell_type": "code",
   "execution_count": 1,
   "metadata": {
    "collapsed": false
   },
   "outputs": [],
   "source": [
    "import numpy as np\n",
    "from scipy.stats import multivariate_normal"
   ]
  },
  {
   "cell_type": "markdown",
   "metadata": {},
   "source": [
    "## Data Generation"
   ]
  },
  {
   "cell_type": "code",
   "execution_count": 2,
   "metadata": {
    "collapsed": true
   },
   "outputs": [],
   "source": [
    "# Config:\n",
    "K = 5"
   ]
  },
  {
   "cell_type": "code",
   "execution_count": 3,
   "metadata": {
    "collapsed": true
   },
   "outputs": [],
   "source": [
    "# Class prior--Dirichlet distribution:\n",
    "prior = np.random.dirichlet(np.ones(K))"
   ]
  },
  {
   "cell_type": "code",
   "execution_count": 4,
   "metadata": {
    "collapsed": true
   },
   "outputs": [],
   "source": [
    "# Sample generation--mus:\n",
    "mu = np.asarray(\n",
    "    [\n",
    "        [6.0*np.cos(i*2*np.pi/K), 8.0*np.sin(i*2*np.pi/K)] for i in xrange(K)\n",
    "    ]\n",
    ")"
   ]
  },
  {
   "cell_type": "code",
   "execution_count": 5,
   "metadata": {
    "collapsed": true
   },
   "outputs": [],
   "source": [
    "# Sample generation--cov mats:\n",
    "cov = np.asarray(\n",
    "    [\n",
    "        #np.matmul(x.T, x) for x in (0.618*np.random.randn(2, 2)+1 for _ in xrange(K))\n",
    "        np.eye(2) for _ in xrange(K)\n",
    "    ]\n",
    ")"
   ]
  },
  {
   "cell_type": "code",
   "execution_count": 6,
   "metadata": {
    "collapsed": true
   },
   "outputs": [],
   "source": [
    "# Number of samples:\n",
    "N = 2000"
   ]
  },
  {
   "cell_type": "code",
   "execution_count": 7,
   "metadata": {
    "collapsed": true
   },
   "outputs": [],
   "source": [
    "# Generate sample classes:\n",
    "classes = np.random.multinomial(N, prior)"
   ]
  },
  {
   "cell_type": "code",
   "execution_count": 8,
   "metadata": {
    "collapsed": true
   },
   "outputs": [],
   "source": [
    "# Generate sample features:\n",
    "X = np.concatenate(\n",
    "    tuple(\n",
    "        np.random.multivariate_normal(mean=mu[i], cov=cov[i], size = classes[i]) for i in xrange(K)\n",
    "    )\n",
    ")\n",
    "y = np.concatenate(\n",
    "    tuple(\n",
    "        i*np.ones(classes[i]) for i in xrange(K)\n",
    "    )\n",
    ").astype(np.int)"
   ]
  },
  {
   "cell_type": "code",
   "execution_count": 9,
   "metadata": {
    "collapsed": false
   },
   "outputs": [
    {
     "data": {
      "image/png": "[encoded data removed]",
      "text/plain": [
       "<matplotlib.figure.Figure at 0x7f42191d3f50>"
      ]
     },
     "metadata": {},
     "output_type": "display_data"
    }
   ],
   "source": [
    "# Visualize:\n",
    "import matplotlib.pyplot as plt\n",
    "# Scatter plot:\n",
    "plt.scatter(\n",
    "    X[:, 0], X[:, 1], \n",
    "    color = np.asarray(\n",
    "        ['b', 'g', 'r', 'c', 'm', 'y']\n",
    "    )[y]\n",
    ")\n",
    "plt.grid()\n",
    "plt.show()"
   ]
  },
  {
   "cell_type": "code",
   "execution_count": 10,
   "metadata": {
    "collapsed": true
   },
   "outputs": [],
   "source": [
    "# Save data for command-line application:\n",
    "import pandas as pd\n",
    "\n",
    "pd.DataFrame(data = X).to_csv('X.csv', index=False, header=False)\n",
    "pd.DataFrame(data = y).to_csv('y.csv', index=False, header=False)"
   ]
  },
  {
   "cell_type": "code",
   "execution_count": 11,
   "metadata": {
    "collapsed": true
   },
   "outputs": [],
   "source": [
    "# Max iterations:\n",
    "MAX_ITER = 10"
   ]
  },
  {
   "cell_type": "markdown",
   "metadata": {},
   "source": [
    "## K-Means\n",
    "\n",
    "$$\n",
    "\\mathcal{L} = \\sum_{i=1}^n \\sum_{k=1}^K \\boldsymbol{1}(c_i = k)\\|x_i - \\mu_k\\|^2.\n",
    "$$"
   ]
  },
  {
   "cell_type": "code",
   "execution_count": 12,
   "metadata": {
    "collapsed": true
   },
   "outputs": [],
   "source": [
    "# Utilities:\n",
    "def k_means_init(X, K):\n",
    "    \"\"\" Generate initial means for K means clustering\n",
    "    \"\"\"\n",
    "    '''\n",
    "    # Random initialize:\n",
    "    mu_idx = np.random.choice(X.shape[0], size=K, replace=False)\n",
    "    return X[mu_idx]    \n",
    "    '''\n",
    "    # Perfect initialize:\n",
    "    return np.concatenate(\n",
    "        tuple(\n",
    "            X[np.argmax(y==class_idx)] for class_idx in xrange(K)\n",
    "        )\n",
    "    ).reshape((-1, 2))\n",
    "def k_means_assign(X, mu, K):\n",
    "    \"\"\" Expectation\n",
    "    \"\"\"\n",
    "    return np.argmin(\n",
    "        np.column_stack(\n",
    "            tuple(\n",
    "                np.sum((X-mu[class_idx])**2, axis=1) for class_idx in xrange(K)\n",
    "            )\n",
    "        ),\n",
    "        axis = 1\n",
    "    )\n",
    "def k_means_update(X, assignment, K):\n",
    "    \"\"\" Maximization\n",
    "    \"\"\"\n",
    "    return np.asarray(\n",
    "        [np.mean(X[assignment == class_idx], axis = 0) for class_idx in xrange(K)]\n",
    "    )"
   ]
  },
  {
   "cell_type": "code",
   "execution_count": 13,
   "metadata": {
    "collapsed": false
   },
   "outputs": [],
   "source": [
    "# Initialize:\n",
    "k_means_mu = k_means_init(X, K)"
   ]
  },
  {
   "cell_type": "code",
   "execution_count": 14,
   "metadata": {
    "collapsed": false
   },
   "outputs": [],
   "source": [
    "for epoch in xrange(MAX_ITER):\n",
    "    # Assignment:\n",
    "    k_means_assignment = k_means_assign(X, k_means_mu, K)\n",
    "    # Update:\n",
    "    k_means_mu = k_means_update(X, k_means_assignment, K)\n",
    "    # Centroids output: \n",
    "    with open(\n",
    "        \"centroids-{iteration}.csv\".format(iteration = epoch+1), \n",
    "        \"w\"\n",
    "    ) as centroids_output:\n",
    "        centroids_output.write(\n",
    "            \"\\n\".join(\n",
    "                \",\".join(str(x) for x in mu) for mu in k_means_mu\n",
    "            )\n",
    "        )"
   ]
  },
  {
   "cell_type": "code",
   "execution_count": 15,
   "metadata": {
    "collapsed": false
   },
   "outputs": [],
   "source": [
    "# Finally:\n",
    "k_means_assignment = k_means_assign(X, k_means_mu, K)"
   ]
  },
  {
   "cell_type": "code",
   "execution_count": 16,
   "metadata": {
    "collapsed": false
   },
   "outputs": [
    {
     "data": {
      "image/png": "[encoded data removed]",
      "text/plain": [
       "<matplotlib.figure.Figure at 0x7f42191d3cd0>"
      ]
     },
     "metadata": {},
     "output_type": "display_data"
    }
   ],
   "source": [
    "# Visualize:\n",
    "import matplotlib.pyplot as plt\n",
    "# Scatter plot:\n",
    "plt.scatter(\n",
    "    X[:, 0], X[:, 1], \n",
    "    color = np.asarray(\n",
    "        ['b', 'g', 'r', 'c', 'm', 'y']\n",
    "    )[k_means_assignment]\n",
    ")\n",
    "plt.grid()\n",
    "plt.show()"
   ]
  },
  {
   "cell_type": "markdown",
   "metadata": {},
   "source": [
    "## EM-GMM\n",
    "\n",
    "The generative assumption is as follows:\n",
    "\n",
    "$$\n",
    "x_i |c_i \\sim Normal(\\mu_{c_i},\\Sigma_{c_i}),\\quad c_i \\sim Discrete(\\pi).\n",
    "$$\n",
    "\n",
    "We use EM to maximize the following objective:\n",
    "\n",
    "$$\n",
    "p(x_1,\\dots,x_n|\\pi,\\boldsymbol{\\mu},\\boldsymbol{\\Sigma}) = \\prod_{i=1}^n p(x_i|\\pi,\\boldsymbol{\\mu},\\boldsymbol{\\Sigma})\n",
    "$$"
   ]
  },
  {
   "cell_type": "code",
   "execution_count": 17,
   "metadata": {
    "collapsed": true
   },
   "outputs": [],
   "source": [
    "# Utilities:\n",
    "def em_init(X, K):\n",
    "    \"\"\" Generate initial means for EM-GMM\n",
    "    \"\"\"\n",
    "    # 0. Dataset configuration:\n",
    "    N, D = X.shape\n",
    "    # 1. prior:\n",
    "    prior = np.ones(K) / K\n",
    "    # 2. mu--random\n",
    "    # mu = X[np.random.choice(N, size=K, replace=False)]\n",
    "    # 2. mu--perfect:\n",
    "    mu = np.concatenate(\n",
    "        tuple(\n",
    "            X[np.argmax(y==class_idx)] for class_idx in xrange(K)\n",
    "        )\n",
    "    ).reshape((-1, 2))\n",
    "    # 3. cov\n",
    "    cov = np.asarray(\n",
    "        [np.eye(D) for _ in xrange(K)]\n",
    "    )\n",
    "    return (prior, mu, cov)"
   ]
  },
  {
   "cell_type": "code",
   "execution_count": 18,
   "metadata": {
    "collapsed": false
   },
   "outputs": [],
   "source": [
    "# Init:\n",
    "N, D = X.shape\n",
    "em_prior, em_mu, em_cov = em_init(X, K)"
   ]
  },
  {
   "cell_type": "code",
   "execution_count": 19,
   "metadata": {
    "collapsed": false
   },
   "outputs": [],
   "source": [
    "for epoch in xrange(MAX_ITER):\n",
    "    # Likelihood:\n",
    "    em_likelihood = [\n",
    "        multivariate_normal(mean=em_mu[class_idx], cov=em_cov[class_idx]) for class_idx in xrange(K)\n",
    "    ]\n",
    "    # Posterior:\n",
    "    em_posterior = np.column_stack(\n",
    "        tuple(\n",
    "            em_prior[class_idx]*em_likelihood[class_idx].pdf(X)for class_idx in xrange(K)\n",
    "        )\n",
    "    )\n",
    "    em_posterior = np.matmul(\n",
    "        np.diag(1.0 / em_posterior.sum(axis=1)),\n",
    "        em_posterior\n",
    "    )\n",
    "    # \n",
    "    em_equivalent_n = np.sum(\n",
    "        em_posterior, axis = 0\n",
    "    )\n",
    "    # Expectation:\n",
    "    em_prior = em_equivalent_n / N\n",
    "    # Maximization:\n",
    "    em_mu = np.asarray(\n",
    "        [\n",
    "            np.average(\n",
    "                X,\n",
    "                axis = 0,\n",
    "                weights = em_posterior[:, class_idx]\n",
    "            ) for class_idx in xrange(K)\n",
    "        ]\n",
    "    )\n",
    "    em_cov = np.asarray(\n",
    "        [\n",
    "            1.0 / em_equivalent_n[class_idx] * np.matmul(\n",
    "                (X - em_mu[class_idx]).T,\n",
    "                np.matmul(\n",
    "                    np.diag(em_posterior[:, class_idx]),\n",
    "                    (X - em_mu[class_idx])\n",
    "                )\n",
    "            ) for class_idx in xrange(K)\n",
    "        ]\n",
    "    )\n",
    "    # Priors output:\n",
    "    with open(\n",
    "        \"pi-{iteration}.csv\".format(iteration = epoch+1), \n",
    "        \"w\"\n",
    "    ) as pi_output:\n",
    "        pi_output.write(\n",
    "            \"\\n\".join(str(x) for x in em_prior)\n",
    "        )\n",
    "    # Means output:\n",
    "    with open(\n",
    "        \"mu-{iteration}.csv\".format(iteration = epoch+1), \n",
    "        \"w\"\n",
    "    ) as mu_output:\n",
    "        mu_output.write(\n",
    "            \"\\n\".join(\n",
    "                \",\".join(str(x) for x in mu) for mu in em_mu\n",
    "            )\n",
    "        )\n",
    "    # Covariance matrices output:\n",
    "    for class_idx in xrange(K):\n",
    "        with open(\n",
    "            \"Sigma-{cluster}-{iteration}.csv\".format(\n",
    "                cluster = class_idx+1, \n",
    "                iteration = epoch+1\n",
    "            ), \n",
    "            \"w\"\n",
    "        ) as cov_output:\n",
    "            cov_output.write(\n",
    "                \"\\n\".join(\n",
    "                    \",\".join(str(x) for x in xs) for xs in em_cov[class_idx]\n",
    "                )\n",
    "            ) "
   ]
  },
  {
   "cell_type": "code",
   "execution_count": 20,
   "metadata": {
    "collapsed": true
   },
   "outputs": [],
   "source": [
    "# Make predictions using Bayesian classifer:\n",
    "bayesian_likelihood = [\n",
    "    multivariate_normal(mean=em_mu[class_idx], cov=em_cov[class_idx]) for class_idx in xrange(K)\n",
    "]\n",
    "bayesian_posterior = np.column_stack(\n",
    "    tuple(\n",
    "        em_prior[class_idx]*bayesian_likelihood[class_idx].pdf(X) for class_idx in xrange(K)\n",
    "    )\n",
    ")\n",
    "bayesian_posterior = np.matmul(\n",
    "    np.diag(1.0 / bayesian_posterior.sum(axis=1)),\n",
    "    bayesian_posterior\n",
    ")\n",
    "# Predict using Bayesian classifier:\n",
    "em_assignment = np.argmax(bayesian_posterior, axis = 1)"
   ]
  },
  {
   "cell_type": "code",
   "execution_count": 21,
   "metadata": {
    "collapsed": false
   },
   "outputs": [
    {
     "data": {
      "image/png": "[encoded data removed]",
      "text/plain": [
       "<matplotlib.figure.Figure at 0x7f42118448d0>"
      ]
     },
     "metadata": {},
     "output_type": "display_data"
    }
   ],
   "source": [
    "# Visualize:\n",
    "import matplotlib.pyplot as plt\n",
    "# Scatter plot:\n",
    "plt.scatter(\n",
    "    X[:, 0], X[:, 1], \n",
    "    color = np.asarray(\n",
    "        ['b', 'g', 'r', 'c', 'm', 'y']\n",
    "    )[em_assignment]\n",
    ")\n",
    "plt.grid()\n",
    "plt.show()"
   ]
  }
 ],
 "metadata": {
  "kernelspec": {
   "display_name": "Python 2",
   "language": "python",
   "name": "python2"
  },
  "language_info": {
   "codemirror_mode": {
    "name": "ipython",
    "version": 2
   },
   "file_extension": ".py",
   "mimetype": "text/x-python",
   "name": "python",
   "nbconvert_exporter": "python",
   "pygments_lexer": "ipython2",
   "version": "2.7.12"
  }
 },
 "nbformat": 4,
 "nbformat_minor": 2
}
