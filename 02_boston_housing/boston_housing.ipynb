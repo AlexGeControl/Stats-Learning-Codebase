{
 "cells": [
  {
   "cell_type": "markdown",
   "metadata": {
    "deletable": true,
    "editable": true
   },
   "source": [
    "# Machine Learning Engineer Nanodegree\n",
    "## Model Evaluation & Validation\n",
    "## Project: Predicting Boston Housing Prices\n",
    "\n",
    "Welcome to the first project of the Machine Learning Engineer Nanodegree! In this notebook, some template code has already been provided for you, and you will need to implement additional functionality to successfully complete this project. You will not need to modify the included code beyond what is requested. Sections that begin with **'Implementation'** in the header indicate that the following block of code will require additional functionality which you must provide. Instructions will be provided for each section and the specifics of the implementation are marked in the code block with a 'TODO' statement. Please be sure to read the instructions carefully!\n",
    "\n",
    "In addition to implementing code, there will be questions that you must answer which relate to the project and your implementation. Each section where you will answer a question is preceded by a **'Question X'** header. Carefully read each question and provide thorough answers in the following text boxes that begin with **'Answer:'**. Your project submission will be evaluated based on your answers to each of the questions and the implementation you provide.  \n",
    "\n",
    ">**Note:** Code and Markdown cells can be executed using the **Shift + Enter** keyboard shortcut. In addition, Markdown cells can be edited by typically double-clicking the cell to enter edit mode."
   ]
  },
  {
   "cell_type": "markdown",
   "metadata": {
    "deletable": true,
    "editable": true
   },
   "source": [
    "## Getting Started\n",
    "In this project, you will evaluate the performance and predictive power of a model that has been trained and tested on data collected from homes in suburbs of Boston, Massachusetts. A model trained on this data that is seen as a *good fit* could then be used to make certain predictions about a home — in particular, its monetary value. This model would prove to be invaluable for someone like a real estate agent who could make use of such information on a daily basis.\n",
    "\n",
    "The dataset for this project originates from the [UCI Machine Learning Repository](https://archive.ics.uci.edu/ml/datasets/Housing). The Boston housing data was collected in 1978 and each of the 506 entries represent aggregated data about 14 features for homes from various suburbs in Boston, Massachusetts. For the purposes of this project, the following preprocessing steps have been made to the dataset:\n",
    "- 16 data points have an `'MEDV'` value of 50.0. These data points likely contain **missing or censored values** and have been removed.\n",
    "- 1 data point has an `'RM'` value of 8.78. This data point can be considered an **outlier** and has been removed.\n",
    "- The features `'RM'`, `'LSTAT'`, `'PTRATIO'`, and `'MEDV'` are essential. The remaining **non-relevant features** have been excluded.\n",
    "- The feature `'MEDV'` has been **multiplicatively scaled** to account for 35 years of market inflation.\n",
    "\n",
    "Run the code cell below to load the Boston housing dataset, along with a few of the necessary Python libraries required for this project. You will know the dataset loaded successfully if the size of the dataset is reported."
   ]
  },
  {
   "cell_type": "code",
   "execution_count": 1,
   "metadata": {
    "collapsed": false,
    "deletable": true,
    "editable": true
   },
   "outputs": [
    {
     "name": "stdout",
     "output_type": "stream",
     "text": [
      "Boston housing dataset has 489 data points with 4 variables each.\n"
     ]
    },
    {
     "name": "stderr",
     "output_type": "stream",
     "text": [
      "/home/alexge/.virtualenvs/tensorflow/local/lib/python2.7/site-packages/sklearn/cross_validation.py:44: DeprecationWarning: This module was deprecated in version 0.18 in favor of the model_selection module into which all the refactored classes and functions are moved. Also note that the interface of the new CV iterators are different from that of this module. This module will be removed in 0.20.\n",
      "  \"This module will be removed in 0.20.\", DeprecationWarning)\n",
      "/home/alexge/.virtualenvs/tensorflow/local/lib/python2.7/site-packages/sklearn/learning_curve.py:23: DeprecationWarning: This module was deprecated in version 0.18 in favor of the model_selection module into which all the functions are moved. This module will be removed in 0.20\n",
      "  DeprecationWarning)\n"
     ]
    }
   ],
   "source": [
    "# Import libraries necessary for this project\n",
    "import numpy as np\n",
    "import pandas as pd\n",
    "from sklearn.model_selection import ShuffleSplit\n",
    "\n",
    "# Matplotlib:\n",
    "import matplotlib.pyplot as plt\n",
    "\n",
    "# Import supplementary visualizations code visuals.py\n",
    "import visuals as vs\n",
    "\n",
    "# Pretty display for notebooks\n",
    "%matplotlib inline\n",
    "\n",
    "# Load the Boston housing dataset\n",
    "data = pd.read_csv('housing.csv')\n",
    "prices = data['MEDV']\n",
    "features = data.drop('MEDV', axis = 1)\n",
    "    \n",
    "# Success\n",
    "print \"Boston housing dataset has {} data points with {} variables each.\".format(*data.shape)"
   ]
  },
  {
   "cell_type": "code",
   "execution_count": 2,
   "metadata": {
    "collapsed": false,
    "deletable": true,
    "editable": true
   },
   "outputs": [
    {
     "name": "stdout",
     "output_type": "stream",
     "text": [
      "[Dataset Dimensions]:  (489, 4)\n",
      "[Feature Names]:  ['RM' 'LSTAT' 'PTRATIO' 'MEDV']\n"
     ]
    }
   ],
   "source": [
    "# Dataset dimensions:\n",
    "print \"[Dataset Dimensions]: \",data.shape\n",
    "print \"[Feature Names]: \",data.columns.values"
   ]
  },
  {
   "cell_type": "markdown",
   "metadata": {
    "deletable": true,
    "editable": true
   },
   "source": [
    "## Data Exploration\n",
    "In this first section of this project, you will make a cursory investigation about the Boston housing data and provide your observations. Familiarizing yourself with the data through an explorative process is a fundamental practice to help you better understand and justify your results.\n",
    "\n",
    "Since the main goal of this project is to construct a working model which has the capability of predicting the value of houses, we will need to separate the dataset into **features** and the **target variable**. The **features**, `'RM'`, `'LSTAT'`, and `'PTRATIO'`, give us quantitative information about each data point. The **target variable**, `'MEDV'`, will be the variable we seek to predict. These are stored in `features` and `prices`, respectively."
   ]
  },
  {
   "cell_type": "markdown",
   "metadata": {
    "deletable": true,
    "editable": true
   },
   "source": [
    "### Implementation: Calculate Statistics\n",
    "For your very first coding implementation, you will calculate descriptive statistics about the Boston housing prices. Since `numpy` has already been imported for you, use this library to perform the necessary calculations. These statistics will be extremely important later on to analyze various prediction results from the constructed model.\n",
    "\n",
    "In the code cell below, you will need to implement the following:\n",
    "- Calculate the minimum, maximum, mean, median, and standard deviation of `'MEDV'`, which is stored in `prices`.\n",
    "  - Store each calculation in their respective variable."
   ]
  },
  {
   "cell_type": "code",
   "execution_count": 3,
   "metadata": {
    "collapsed": false,
    "deletable": true,
    "editable": true
   },
   "outputs": [
    {
     "name": "stdout",
     "output_type": "stream",
     "text": [
      "Data quality statistics for Boston housing dataset, price field:\n",
      "Num. of NAs: 0\n"
     ]
    }
   ],
   "source": [
    "# First I'd like to make sure there are not too many missing values\n",
    "num_na_price = prices.isnull().sum()\n",
    "print \"Data quality statistics for Boston housing dataset, price field:\"\n",
    "print \"Num. of NAs: {}\".format(num_na_price)"
   ]
  },
  {
   "cell_type": "markdown",
   "metadata": {
    "deletable": true,
    "editable": true
   },
   "source": [
    "Great! Now let's get down to the business:"
   ]
  },
  {
   "cell_type": "code",
   "execution_count": 4,
   "metadata": {
    "collapsed": false,
    "deletable": true,
    "editable": true
   },
   "outputs": [
    {
     "name": "stdout",
     "output_type": "stream",
     "text": [
      "Statistics for Boston housing dataset:\n",
      "\n",
      "Minimum price: $105,000.00\n",
      "Maximum price: $1,024,800.00\n",
      "Mean price: $454,342.94\n",
      "Median price $438,900.00\n",
      "Standard deviation of prices: $165,340.28\n"
     ]
    }
   ],
   "source": [
    "# Implementation 1--Pandas describe:\n",
    "'''\n",
    "# Generate all the summary statistics first:\n",
    "price_summary = prices.describe()\n",
    "\n",
    "# Minimum price of the data\n",
    "minimum_price = price_summary['min']\n",
    "\n",
    "# Maximum price of the data\n",
    "maximum_price = price_summary['max']\n",
    "\n",
    "# Mean price of the data\n",
    "mean_price = price_summary['mean']\n",
    "\n",
    "# Median price of the data\n",
    "median_price = price_summary['50%']\n",
    "\n",
    "# bStandard deviation of prices of the data\n",
    "std_price = price_summary['std']\n",
    "\n",
    "Statistics for Boston housing dataset:\n",
    "\n",
    "Minimum price: $105,000.00\n",
    "Maximum price: $1,024,800.00\n",
    "Mean price: $454,342.94\n",
    "Median price $438,900.00\n",
    "Standard deviation of prices: $165,340.28\n",
    "'''\n",
    "# Implementation 2--Numpy primitives:\n",
    "\n",
    "# Minimum price of the data\n",
    "minimum_price = np.min(prices)\n",
    "\n",
    "# Maximum price of the data\n",
    "maximum_price = np.max(prices)\n",
    "\n",
    "# Mean price of the data\n",
    "mean_price = np.mean(prices)\n",
    "\n",
    "# Median price of the data\n",
    "median_price = np.median(prices)\n",
    "\n",
    "# bStandard deviation of prices of the data\n",
    "std_price = np.std(prices, ddof=1)\n",
    "\n",
    "# Show the calculated statistics\n",
    "print \"Statistics for Boston housing dataset:\\n\"\n",
    "print \"Minimum price: ${:,.2f}\".format(minimum_price)\n",
    "print \"Maximum price: ${:,.2f}\".format(maximum_price)\n",
    "print \"Mean price: ${:,.2f}\".format(mean_price)\n",
    "print \"Median price ${:,.2f}\".format(median_price)\n",
    "print \"Standard deviation of prices: ${:,.2f}\".format(std_price)"
   ]
  },
  {
   "cell_type": "markdown",
   "metadata": {
    "deletable": true,
    "editable": true
   },
   "source": [
    "### Question 1 - Feature Observation\n",
    "As a reminder, we are using three features from the Boston housing dataset: `'RM'`, `'LSTAT'`, and `'PTRATIO'`. For each data point (neighborhood):\n",
    "- `'RM'` is the average number of rooms among homes in the neighborhood.\n",
    "- `'LSTAT'` is the percentage of homeowners in the neighborhood considered \"lower class\" (working poor).\n",
    "- `'PTRATIO'` is the ratio of students to teachers in primary and secondary schools in the neighborhood.\n",
    "\n",
    "_Using your intuition, for each of the three features above, do you think that an increase in the value of that feature would lead to an **increase** in the value of `'MEDV'` or a **decrease** in the value of `'MEDV'`? Justify your answer for each._  \n",
    "**Hint:** Would you expect a home that has an `'RM'` value of 6 be worth more or less than a home that has an `'RM'` value of 7?"
   ]
  },
  {
   "cell_type": "markdown",
   "metadata": {
    "deletable": true,
    "editable": true
   },
   "source": [
    "**Build a simple linear regressor to evaluate the correlation between the predictors and the response**"
   ]
  },
  {
   "cell_type": "code",
   "execution_count": 5,
   "metadata": {
    "collapsed": false,
    "deletable": true,
    "editable": true
   },
   "outputs": [
    {
     "name": "stdout",
     "output_type": "stream",
     "text": [
      "[R Squared]: 0.72\n",
      "[RM     ]: 55660.69--positive\n",
      "[LSTAT  ]: -76756.31--negative\n",
      "[PTRATIO]: -41110.97--negative\n"
     ]
    }
   ],
   "source": [
    "# Set up session:\n",
    "from sklearn.preprocessing import StandardScaler\n",
    "from sklearn.linear_model import LinearRegression\n",
    "\n",
    "# Feature names:\n",
    "feature_names = ['RM', 'LSTAT', 'PTRATIO']\n",
    "\n",
    "# Features:\n",
    "X = data[feature_names].values\n",
    "\n",
    "# Standarize:\n",
    "X_standardized = StandardScaler().fit_transform(X)\n",
    "\n",
    "# Response:\n",
    "y = data['MEDV'].values\n",
    "\n",
    "# Fit linear regressor:\n",
    "clf_lr = LinearRegression(\n",
    "    fit_intercept=True, \n",
    "    normalize=False, \n",
    "    copy_X=True, \n",
    "    n_jobs=-1\n",
    ")\n",
    "clf_lr.fit(X_standardized, y)\n",
    "\n",
    "# Goodness of fitness:\n",
    "r_squared = clf_lr.score(X_standardized, y)\n",
    "print \"[R Squared]: {:.2f}\".format(r_squared)\n",
    "\n",
    "# Correlation:\n",
    "for feature_name, coef in zip(feature_names, clf_lr.coef_):\n",
    "    print \"[{:7s}]: {:.2f}--{}\".format(\n",
    "        feature_name,\n",
    "        coef,\n",
    "        \"positive\" if coef > 0 else \"negative\"\n",
    "    )"
   ]
  },
  {
   "cell_type": "markdown",
   "metadata": {
    "deletable": true,
    "editable": true
   },
   "source": [
    "**Answer: **\n",
    "\n",
    "From the coefficients of the fitted linear regressor, we know that:\n",
    "\n",
    "1. Increase in the value of **'RM'** would lead to an **increase** of 'MEDV';\n",
    "2. Increase in the value of **'LSTAT'** would lead to an **decrease** of 'MEDV';\n",
    "3. Increase in the value of **'PTRATIO'** would lead to an **decrease** of 'MEDV'.\n",
    "\n",
    "**Intuitively:**\n",
    "\n",
    "1. 'RM': Generally, more rooms means more available space inside house. So the average number of rooms is positively correlated with the house price;\n",
    "2. 'LSTAT': People of similar social class, i.e., of similar economic income and social status, tend to inhabit together. So the lower the percentage of working poor in a certain neighborhood, the higher the neighborhood is developed for high-income people, thus house price in it will more likely to be expensive;\n",
    "3. 'PTRATIO': Low student to teacher ratio is an indication of good education resources. Since quality of education resources is positively correlated with house price, 'PTRATIO' should be negatively correlated with the price."
   ]
  },
  {
   "cell_type": "markdown",
   "metadata": {
    "deletable": true,
    "editable": true
   },
   "source": [
    "----\n",
    "\n",
    "## Developing a Model\n",
    "In this second section of the project, you will develop the tools and techniques necessary for a model to make a prediction. Being able to make accurate evaluations of each model's performance through the use of these tools and techniques helps to greatly reinforce the confidence in your predictions."
   ]
  },
  {
   "cell_type": "markdown",
   "metadata": {
    "deletable": true,
    "editable": true
   },
   "source": [
    "### Implementation: Define a Performance Metric\n",
    "It is difficult to measure the quality of a given model without quantifying its performance over training and testing. This is typically done using some type of performance metric, whether it is through calculating some type of error, the goodness of fit, or some other useful measurement. For this project, you will be calculating the [*coefficient of determination*](http://stattrek.com/statistics/dictionary.aspx?definition=coefficient_of_determination), R<sup>2</sup>, to quantify your model's performance. The coefficient of determination for a model is a useful statistic in regression analysis, as it often describes how \"good\" that model is at making predictions. \n",
    "\n",
    "The values for R<sup>2</sup> range from 0 to 1, which captures the percentage of squared correlation between the predicted and actual values of the **target variable**. A model with an R<sup>2</sup> of 0 is no better than a model that always predicts the *mean* of the target variable, whereas a model with an R<sup>2</sup> of 1 perfectly predicts the target variable. Any value between 0 and 1 indicates what percentage of the target variable, using this model, can be explained by the **features**. _A model can be given a negative R<sup>2</sup> as well, which indicates that the model is **arbitrarily worse** than one that always predicts the mean of the target variable._\n",
    "\n",
    "For the `performance_metric` function in the code cell below, you will need to implement the following:\n",
    "- Use `r2_score` from `sklearn.metrics` to perform a performance calculation between `y_true` and `y_predict`.\n",
    "- Assign the performance score to the `score` variable."
   ]
  },
  {
   "cell_type": "code",
   "execution_count": 6,
   "metadata": {
    "collapsed": false,
    "deletable": true,
    "editable": true
   },
   "outputs": [],
   "source": [
    "# Import 'r2_score'\n",
    "from sklearn.metrics import r2_score\n",
    "\n",
    "def performance_metric(y_true, y_predict):\n",
    "    \"\"\" Calculates and returns the performance score between \n",
    "        true and predicted values based on the metric chosen. \n",
    "    \"\"\"\n",
    "    # Calculate the performance score between 'y_true' and 'y_predict'\n",
    "    score = r2_score(y_true, y_predict)\n",
    "    \n",
    "    # Return the score\n",
    "    return score"
   ]
  },
  {
   "cell_type": "markdown",
   "metadata": {
    "deletable": true,
    "editable": true
   },
   "source": [
    "### Question 2 - Goodness of Fit\n",
    "Assume that a dataset contains five data points and a model made the following predictions for the target variable:\n",
    "\n",
    "| True Value | Prediction |\n",
    "| :-------------: | :--------: |\n",
    "| 3.0 | 2.5 |\n",
    "| -0.5 | 0.0 |\n",
    "| 2.0 | 2.1 |\n",
    "| 7.0 | 7.8 |\n",
    "| 4.2 | 5.3 |\n",
    "*Would you consider this model to have successfully captured the variation of the target variable? Why or why not?* \n",
    "\n",
    "Run the code cell below to use the `performance_metric` function and calculate this model's coefficient of determination."
   ]
  },
  {
   "cell_type": "code",
   "execution_count": 7,
   "metadata": {
    "collapsed": false,
    "deletable": true,
    "editable": true
   },
   "outputs": [
    {
     "name": "stdout",
     "output_type": "stream",
     "text": [
      "Model has a coefficient of determination, R^2, of 0.923.\n"
     ]
    }
   ],
   "source": [
    "# Calculate the performance of this model\n",
    "score = performance_metric([3, -0.5, 2, 7, 4.2], [2.5, 0.0, 2.1, 7.8, 5.3])\n",
    "print \"Model has a coefficient of determination, R^2, of {:.3f}.\".format(score)"
   ]
  },
  {
   "cell_type": "markdown",
   "metadata": {
    "deletable": true,
    "editable": true
   },
   "source": [
    "**Answer:**\n",
    "\n",
    "- **Would you consider this model to have successfully captured the variation of the target variable? Why or why not?**\n",
    "\n",
    "Yes. R^2 indicates that 92.3% of sample variance has been explained by corresponding predictions."
   ]
  },
  {
   "cell_type": "markdown",
   "metadata": {
    "deletable": true,
    "editable": true
   },
   "source": [
    "### Implementation: Shuffle and Split Data\n",
    "Your next implementation requires that you take the Boston housing dataset and split the data into training and testing subsets. Typically, the data is also shuffled into a random order when creating the training and testing subsets to remove any bias in the ordering of the dataset.\n",
    "\n",
    "For the code cell below, you will need to implement the following:\n",
    "- Use `train_test_split` from `sklearn.cross_validation` to shuffle and split the `features` and `prices` data into training and testing sets.\n",
    "  - Split the data into 80% training and 20% testing.\n",
    "  - Set the `random_state` for `train_test_split` to a value of your choice. This ensures results are consistent.\n",
    "- Assign the train and testing splits to `X_train`, `X_test`, `y_train`, and `y_test`."
   ]
  },
  {
   "cell_type": "code",
   "execution_count": 8,
   "metadata": {
    "collapsed": false,
    "deletable": true,
    "editable": true
   },
   "outputs": [
    {
     "name": "stdout",
     "output_type": "stream",
     "text": [
      "Training and testing split was successful.\n"
     ]
    }
   ],
   "source": [
    "# Import 'train_test_split'\n",
    "from sklearn.model_selection import train_test_split\n",
    "\n",
    "# Shuffle and split the data into training and testing subsets\n",
    "X_train, X_test, y_train, y_test = train_test_split(\n",
    "    X, y, \n",
    "    test_size=0.20, random_state=42\n",
    ")\n",
    "\n",
    "# Success\n",
    "print \"Training and testing split was successful.\""
   ]
  },
  {
   "cell_type": "markdown",
   "metadata": {
    "deletable": true,
    "editable": true
   },
   "source": [
    "### Question 3 - Training and Testing\n",
    "*What is the benefit to splitting a dataset into some ratio of training and testing subsets for a learning algorithm?*  \n",
    "**Hint:** What could go wrong with not having a way to test your model?"
   ]
  },
  {
   "cell_type": "markdown",
   "metadata": {
    "deletable": true,
    "editable": true
   },
   "source": [
    "**Answer: **\n",
    "\n",
    "We can **estimate the generalization performance on unseen dataset of our trained model on testing subset**. \n",
    "\n",
    "Only in this way can we gain confidence in our modeling procedure & predictive model performance."
   ]
  },
  {
   "cell_type": "markdown",
   "metadata": {
    "deletable": true,
    "editable": true
   },
   "source": [
    "----\n",
    "\n",
    "## Analyzing Model Performance\n",
    "In this third section of the project, you'll take a look at several models' learning and testing performances on various subsets of training data. Additionally, you'll investigate one particular algorithm with an increasing `'max_depth'` parameter on the full training set to observe how model complexity affects performance. Graphing your model's performance based on varying criteria can be beneficial in the analysis process, such as visualizing behavior that may not have been apparent from the results alone."
   ]
  },
  {
   "cell_type": "markdown",
   "metadata": {
    "deletable": true,
    "editable": true
   },
   "source": [
    "### Learning Curves\n",
    "The following code cell produces four graphs for a decision tree model with different maximum depths. Each graph visualizes the learning curves of the model for both training and testing **as the size of the training set is increased**. Note that the shaded region of a learning curve denotes the uncertainty of that curve (measured as the standard deviation). The model is scored on both the training and testing sets using R<sup>2</sup>, the coefficient of determination.  \n",
    "\n",
    "Run the code cell below and use these graphs to answer the following question."
   ]
  },
  {
   "cell_type": "code",
   "execution_count": 9,
   "metadata": {
    "collapsed": false,
    "deletable": true,
    "editable": true,
    "scrolled": false
   },
   "outputs": [
    {
     "data": {
      "image/png": "[encoded data removed]",
      "text/plain": [
       "<matplotlib.figure.Figure at 0x7f6ca3b48690>"
      ]
     },
     "metadata": {},
     "output_type": "display_data"
    }
   ],
   "source": [
    "# Produce learning curves for varying training set sizes and maximum depths\n",
    "vs.ModelLearning(features, prices)"
   ]
  },
  {
   "cell_type": "markdown",
   "metadata": {
    "deletable": true,
    "editable": true
   },
   "source": [
    "### Question 4 - Learning the Data\n",
    "*Choose one of the graphs above and state the maximum depth for the model. What happens to the score of the training curve as more training points are added? What about the testing curve? Would having more training points benefit the model?*  \n",
    "**Hint:** Are the learning curves converging to particular scores?"
   ]
  },
  {
   "cell_type": "markdown",
   "metadata": {
    "deletable": true,
    "editable": true
   },
   "source": [
    "**Answer: **\n",
    "\n",
    "First, I choose **the upper right learning curve graph with max_depth == 3**\n",
    "\n",
    "- **What happens to the score of the training curve as more training points are added?**\n",
    "\n",
    "The training score **first decreases significantly**(when 'num. of training points' is increased from 0 to 200) **then plateaus** as more training points are added.\n",
    "\n",
    "- **What about the testing curve?**\n",
    "\n",
    "The testing score **first improve significantly**(when 'num. of training points' is increased from 0 to 200) **then plateaus** as more training points are added.\n",
    "\n",
    "- **Would having more training points benefit the model?**\n",
    "\n",
    "After the number of training points is increased above a certain threshold, i.e., the training & testing error both have plateaued, adding more training points would not further improve model performance.\n",
    "\n",
    "- **Are the learning curves converging to particular scores?**\n",
    "\n",
    "Yes. As the number of training points increases, **the training & testing score both gradually converges to about 0.8**. It neither converges to early as it does with 'max_depth == 1', nor has an obvious gap between training & testing score as it does when 'max_depth >= 6'\n",
    "\n",
    "This satisfactory performance indicates that **the trained model does not suffer from either high bias or high variance**"
   ]
  },
  {
   "cell_type": "markdown",
   "metadata": {
    "deletable": true,
    "editable": true
   },
   "source": [
    "### Complexity Curves\n",
    "The following code cell produces a graph for a decision tree model that has been trained and validated on the training data using different maximum depths. The graph produces two complexity curves — one for training and one for validation. Similar to the **learning curves**, the shaded regions of both the complexity curves denote the uncertainty in those curves, and the model is scored on both the training and validation sets using the `performance_metric` function.  \n",
    "\n",
    "Run the code cell below and use this graph to answer the following two questions."
   ]
  },
  {
   "cell_type": "code",
   "execution_count": 10,
   "metadata": {
    "collapsed": false,
    "deletable": true,
    "editable": true
   },
   "outputs": [
    {
     "data": {
      "image/png": "[encoded data removed]",
      "text/plain": [
       "<matplotlib.figure.Figure at 0x7f6ca02699d0>"
      ]
     },
     "metadata": {},
     "output_type": "display_data"
    }
   ],
   "source": [
    "vs.ModelComplexity(X_train, y_train)"
   ]
  },
  {
   "cell_type": "markdown",
   "metadata": {
    "deletable": true,
    "editable": true
   },
   "source": [
    "### Question 5 - Bias-Variance Tradeoff\n",
    "*When the model is trained with a maximum depth of 1, does the model suffer from high bias or from high variance? How about when the model is trained with a maximum depth of 10? What visual cues in the graph justify your conclusions?*  \n",
    "**Hint:** How do you know when a model is suffering from high bias or high variance?"
   ]
  },
  {
   "cell_type": "markdown",
   "metadata": {
    "deletable": true,
    "editable": true
   },
   "source": [
    "**Answer: **\n",
    "\n",
    "- **When the model is trained with a maximum depth of 1, does the model suffer from high bias or from high variance?**\n",
    "\n",
    "It suffers from high bias.\n",
    "\n",
    "- **How about when the model is trained with a maximum depth of 10?**\n",
    "\n",
    "It suffers from high variance.\n",
    "\n",
    "- **What visual cues in the graph justify your conclusions?**\n",
    "\n",
    "**a.** When 'max_depth' <= 3, both training & validation scores increase significantly as 'max_depth' increases, which indicates decision tree with 'max_depth' = 1 suffers from high bias.\n",
    "\n",
    "**b.** When 'max_depth' > 4, training & validation scores begin to diverge, which indicates decision tree with 'max_depth' = 1 suffers from high variance."
   ]
  },
  {
   "cell_type": "markdown",
   "metadata": {
    "deletable": true,
    "editable": true
   },
   "source": [
    "### Question 6 - Best-Guess Optimal Model\n",
    "*Which maximum depth do you think results in a model that best generalizes to unseen data? What intuition lead you to this answer?*"
   ]
  },
  {
   "cell_type": "markdown",
   "metadata": {
    "deletable": true,
    "editable": true
   },
   "source": [
    "**Answer: **\n",
    "\n",
    "- **Which maximum depth do you think results in a model that best generalizes to unseen data?** \n",
    "\n",
    "When **'max_depth' == 3**\n",
    "\n",
    "- **What intuition lead you to this answer?**\n",
    "\n",
    "**a.** The validation score culminates when 'max_depth' == 3 or 4. After this its mean begins to drop gradually and its variance starts to amplify.\n",
    "\n",
    "**b.** Using Occam's Razor I choose 'max_depth' = 3."
   ]
  },
  {
   "cell_type": "markdown",
   "metadata": {
    "deletable": true,
    "editable": true
   },
   "source": [
    "-----\n",
    "\n",
    "## Evaluating Model Performance\n",
    "In this final section of the project, you will construct a model and make a prediction on the client's feature set using an optimized model from `fit_model`."
   ]
  },
  {
   "cell_type": "markdown",
   "metadata": {
    "deletable": true,
    "editable": true
   },
   "source": [
    "### Question 7 - Grid Search\n",
    "*What is the grid search technique and how it can be applied to optimize a learning algorithm?*"
   ]
  },
  {
   "cell_type": "markdown",
   "metadata": {
    "deletable": true,
    "editable": true
   },
   "source": [
    "**Answer: **\n",
    "\n",
    "- **What is the grid search technique?**\n",
    "\n",
    "In Object-Oriented Design terms, **a given algorithm can be seen as a class template** as follows(in Python):\n",
    "\n",
    "``\n",
    "class Algorithm:\n",
    "    def __init__(self, training_data, **hyper_params):\n",
    "        ...\n",
    "``\n",
    "\n",
    "We define the hyper-parameter space of a given algorithm as all feasible combinations its hyper-parameters.\n",
    "\n",
    "Then **each trained algorithm can be seen an object instantiated with given training data and a point in hyper-parameter space as initializer parameters**.\n",
    "\n",
    "**'Grid Search'** means:\n",
    "\n",
    "**a.** We first **define a subspace of hyper-parameter space**. Below is a subspace defined by 'criterion' and 'max_depth' for DecisionTreeRegressor:\n",
    "\n",
    "``\n",
    "params = {\n",
    "    \"criterion\": [\"mse\", \"mae\"]\n",
    "    \"max_depth\": [3, 10]\n",
    "}\n",
    "``\n",
    "\n",
    "**b.** Then **form a mesh grid for the defined subspace**\n",
    "\n",
    "``\n",
    "params_mesh_grid = [\n",
    "    {\n",
    "        \"criterion\": \"mse\",\n",
    "        \"max_depth\": 3\n",
    "    },\n",
    "    {\n",
    "        \"criterion\": \"mse\",\n",
    "        \"max_depth\": 10\n",
    "    },\n",
    "    {\n",
    "        \"criterion\": \"mae\",\n",
    "        \"max_depth\": 3\n",
    "    },\n",
    "    {\n",
    "        \"criterion\": \"mae\",\n",
    "        \"max_depth\": 10\n",
    "    }\n",
    "]\n",
    "``\n",
    "\n",
    "**c.** Finally we **train the algorithm with all the points in hyper-parameter mesh grid** and **keep the hyper-parameters that give us the best performance**\n",
    "\n",
    "- **How it can be applied to optimize a learning algorithm?**\n",
    "\n",
    "This technique can be used to tune model hyperparameters \n",
    "\n",
    "**a.** systematically(**train and validate through hyper-parameter subspace**)\n",
    "\n",
    "**b.** efficiently(**parallel & distributed evaluation**)"
   ]
  },
  {
   "cell_type": "markdown",
   "metadata": {
    "deletable": true,
    "editable": true
   },
   "source": [
    "### Question 8 - Cross-Validation\n",
    "*What is the k-fold cross-validation training technique? What benefit does this technique provide for grid search when optimizing a model?*  \n",
    "**Hint:** Much like the reasoning behind having a testing set, what could go wrong with using grid search without a cross-validated set?"
   ]
  },
  {
   "cell_type": "markdown",
   "metadata": {
    "deletable": true,
    "editable": true
   },
   "source": [
    "**Answer: **\n",
    "\n",
    "- **What is the k-fold cross-validation training technique?** \n",
    "\n",
    "I compile the following answer from [Wikipedia article on Cross-validation](https://en.wikipedia.org/wiki/Cross-validation_(statistics))\n",
    "\n",
    "*\"In k-fold cross-validation, the original sample is randomly partitioned into k equal sized subsamples. Of the k subsamples, a single subsample is retained as the validation data for testing the model, and the remaining k − 1 subsamples are used as training data. The cross-validation process is then repeated k times (the folds), with each of the k subsamples used exactly once as the validation data. The k testing results from the folds can then be averaged to produce a single estimation\"*\n",
    "\n",
    "Compared with hold out methods:\n",
    "\n",
    "**a.** K-fold cross-validation can better use the info. contained inside the limited sample. every sample instance could serve as a both training and validation/testing case. However, in hold out methods, each sample instance could only be either training or validation/testing case.\n",
    "\n",
    "**b.** The k performance metrics estimations given by k-fold CV could give a more robust estimation of hyper-parameter effectiveness(validation case) and generalization performance(testing case). The mean, variance and other statistics of performance metrics could be further used to evaluate model performance. In the case of complexity curve analysis, larger variance of validation error under similar mean is a good indicator of over-fitting and model's high sensitivity.\n",
    "\n",
    "- **What benefit does this technique provide for grid search when optimizing a model?**\n",
    "\n",
    "After splitting the original sample into training and testing sets, we can further split training set into training & validation sets, then tune model hyper-parameters through evaluating each hyper-parameter combination generated by grid search using k-fold cross-validation.\n",
    "\n",
    "By combining grid search and cross-validation, we attain a systematic and effective way for automatic hyper-parameter tuning."
   ]
  },
  {
   "cell_type": "markdown",
   "metadata": {
    "deletable": true,
    "editable": true
   },
   "source": [
    "### Implementation: Fitting a Model\n",
    "Your final implementation requires that you bring everything together and train a model using the **decision tree algorithm**. To ensure that you are producing an optimized model, you will train the model using the grid search technique to optimize the `'max_depth'` parameter for the decision tree. The `'max_depth'` parameter can be thought of as how many questions the decision tree algorithm is allowed to ask about the data before making a prediction. Decision trees are part of a class of algorithms called *supervised learning algorithms*.\n",
    "\n",
    "In addition, you will find your implementation is using `ShuffleSplit()` for an alternative form of cross-validation (see the `'cv_sets'` variable). While it is not the K-Fold cross-validation technique you describe in **Question 8**, this type of cross-validation technique is just as useful!. The `ShuffleSplit()` implementation below will create 10 (`'n_splits'`) shuffled sets, and for each shuffle, 20% (`'test_size'`) of the data will be used as the *validation set*. While you're working on your implementation, think about the contrasts and similarities it has to the K-fold cross-validation technique.\n",
    "\n",
    "Please note that ShuffleSplit has different parameters in scikit-learn versions 0.17 and 0.18.\n",
    "For the `fit_model` function in the code cell below, you will need to implement the following:\n",
    "- Use [`DecisionTreeRegressor`](http://scikit-learn.org/stable/modules/generated/sklearn.tree.DecisionTreeRegressor.html) from `sklearn.tree` to create a decision tree regressor object.\n",
    "  - Assign this object to the `'regressor'` variable.\n",
    "- Create a dictionary for `'max_depth'` with the values from 1 to 10, and assign this to the `'params'` variable.\n",
    "- Use [`make_scorer`](http://scikit-learn.org/stable/modules/generated/sklearn.metrics.make_scorer.html) from `sklearn.metrics` to create a scoring function object.\n",
    "  - Pass the `performance_metric` function as a parameter to the object.\n",
    "  - Assign this scoring function to the `'scoring_fnc'` variable.\n",
    "- Use [`GridSearchCV`](http://scikit-learn.org/0.17/modules/generated/sklearn.grid_search.GridSearchCV.html) from `sklearn.grid_search` to create a grid search object.\n",
    "  - Pass the variables `'regressor'`, `'params'`, `'scoring_fnc'`, and `'cv_sets'` as parameters to the object. \n",
    "  - Assign the `GridSearchCV` object to the `'grid'` variable."
   ]
  },
  {
   "cell_type": "code",
   "execution_count": 11,
   "metadata": {
    "collapsed": false,
    "deletable": true,
    "editable": true
   },
   "outputs": [],
   "source": [
    "# Import 'make_scorer', 'DecisionTreeRegressor', and 'GridSearchCV'\n",
    "# Regressor:\n",
    "from sklearn.tree import DecisionTreeRegressor\n",
    "# Evaluation metric:\n",
    "from sklearn.metrics import make_scorer\n",
    "# Hyperparameter tuning:\n",
    "from sklearn.model_selection import GridSearchCV\n",
    "\n",
    "def fit_model(X, y):\n",
    "    \"\"\" Performs grid search over the 'max_depth' parameter for a \n",
    "        decision tree regressor trained on the input data [X, y]. \"\"\"\n",
    "    \n",
    "    # Create cross-validation sets from the training data\n",
    "    cv_sets = ShuffleSplit(n_splits = 10, test_size = 0.20, random_state = 0).split(X)\n",
    "\n",
    "    # Create a decision tree regressor object\n",
    "    regressor = DecisionTreeRegressor()\n",
    "\n",
    "    # Create a dictionary for the parameter 'max_depth' with a range from 1 to 10\n",
    "    params = {\n",
    "        \"max_depth\": range(1, 11)\n",
    "    }\n",
    "\n",
    "    # Transform 'performance_metric' into a scoring function using 'make_scorer' \n",
    "    scoring_fnc = make_scorer(performance_metric)\n",
    "\n",
    "    # Create the grid search object\n",
    "    grid = GridSearchCV(\n",
    "        estimator = regressor, \n",
    "        param_grid = params, \n",
    "        scoring = scoring_fnc,\n",
    "        cv = cv_sets,\n",
    "        n_jobs = -1\n",
    "    )\n",
    "\n",
    "    # Fit the grid search object to the data to compute the optimal model\n",
    "    grid = grid.fit(X, y)\n",
    "\n",
    "    # Return the optimal model after fitting the data\n",
    "    return grid.best_estimator_"
   ]
  },
  {
   "cell_type": "markdown",
   "metadata": {
    "deletable": true,
    "editable": true
   },
   "source": [
    "### Making Predictions\n",
    "Once a model has been trained on a given set of data, it can now be used to make predictions on new sets of input data. In the case of a *decision tree regressor*, the model has learned *what the best questions to ask about the input data are*, and can respond with a prediction for the **target variable**. You can use these predictions to gain information about data where the value of the target variable is unknown — such as data the model was not trained on."
   ]
  },
  {
   "cell_type": "markdown",
   "metadata": {
    "deletable": true,
    "editable": true
   },
   "source": [
    "### Question 9 - Optimal Model\n",
    "_What maximum depth does the optimal model have? How does this result compare to your guess in **Question 6**?_  \n",
    "\n",
    "Run the code block below to fit the decision tree regressor to the training data and produce an optimal model."
   ]
  },
  {
   "cell_type": "code",
   "execution_count": 12,
   "metadata": {
    "collapsed": false,
    "deletable": true,
    "editable": true,
    "scrolled": true
   },
   "outputs": [
    {
     "name": "stdout",
     "output_type": "stream",
     "text": [
      "Parameter 'max_depth' is 4 for the optimal model.\n"
     ]
    }
   ],
   "source": [
    "# Fit the training data to the model using grid search\n",
    "reg = fit_model(X_train, y_train)\n",
    "\n",
    "# Produce the value for 'max_depth'\n",
    "print \"Parameter 'max_depth' is {} for the optimal model.\".format(reg.get_params()['max_depth'])"
   ]
  },
  {
   "cell_type": "markdown",
   "metadata": {
    "deletable": true,
    "editable": true
   },
   "source": [
    "**Answer: **\n",
    "\n",
    "- **What maximum depth does the optimal model have? **\n",
    "\n",
    "GridSearchCV selects 'max_depth' = 4.\n",
    "\n",
    "- **How does this result compare to your guess in Question 6?**\n",
    "\n",
    "It is close to my guess 'max_depth' = 3 but is a bit larger."
   ]
  },
  {
   "cell_type": "markdown",
   "metadata": {
    "deletable": true,
    "editable": true
   },
   "source": [
    "### Question 10 - Predicting Selling Prices\n",
    "Imagine that you were a real estate agent in the Boston area looking to use this model to help price homes owned by your clients that they wish to sell. You have collected the following information from three of your clients:\n",
    "\n",
    "| Feature | Client 1 | Client 2 | Client 3 |\n",
    "| :---: | :---: | :---: | :---: |\n",
    "| Total number of rooms in home | 5 rooms | 4 rooms | 8 rooms |\n",
    "| Neighborhood poverty level (as %) | 17% | 32% | 3% |\n",
    "| Student-teacher ratio of nearby schools | 15-to-1 | 22-to-1 | 12-to-1 |\n",
    "*What price would you recommend each client sell his/her home at? Do these prices seem reasonable given the values for the respective features?*  \n",
    "**Hint:** Use the statistics you calculated in the **Data Exploration** section to help justify your response.  \n",
    "\n",
    "Run the code block below to have your optimized model make predictions for each client's home."
   ]
  },
  {
   "cell_type": "code",
   "execution_count": 13,
   "metadata": {
    "collapsed": false,
    "deletable": true,
    "editable": true
   },
   "outputs": [
    {
     "name": "stdout",
     "output_type": "stream",
     "text": [
      "Predicted selling price for Client 1's home: $403,025.00\n",
      "Predicted selling price for Client 2's home: $237,478.72\n",
      "Predicted selling price for Client 3's home: $931,636.36\n"
     ]
    }
   ],
   "source": [
    "# Produce a matrix for client data\n",
    "client_data = [[5, 17, 15], # Client 1\n",
    "               [4, 32, 22], # Client 2\n",
    "               [8, 3, 12]]  # Client 3\n",
    "\n",
    "# Predictions\n",
    "predictions = reg.predict(client_data)\n",
    "\n",
    "# Show predictions\n",
    "for i, price in enumerate(predictions):\n",
    "    print \"Predicted selling price for Client {}'s home: ${:,.2f}\".format(i+1, price)"
   ]
  },
  {
   "cell_type": "code",
   "execution_count": 14,
   "metadata": {
    "collapsed": false
   },
   "outputs": [
    {
     "data": {
      "text/html": [
       "<div>\n",
       "<table border=\"1\" class=\"dataframe\">\n",
       "  <thead>\n",
       "    <tr style=\"text-align: right;\">\n",
       "      <th></th>\n",
       "      <th>count</th>\n",
       "      <th>mean</th>\n",
       "      <th>std</th>\n",
       "      <th>min</th>\n",
       "      <th>25%</th>\n",
       "      <th>50%</th>\n",
       "      <th>75%</th>\n",
       "      <th>max</th>\n",
       "    </tr>\n",
       "  </thead>\n",
       "  <tbody>\n",
       "    <tr>\n",
       "      <th>RM</th>\n",
       "      <td>489.0</td>\n",
       "      <td>6.240288</td>\n",
       "      <td>0.643650</td>\n",
       "      <td>3.561</td>\n",
       "      <td>5.88</td>\n",
       "      <td>6.185</td>\n",
       "      <td>6.575</td>\n",
       "      <td>8.398</td>\n",
       "    </tr>\n",
       "    <tr>\n",
       "      <th>LSTAT</th>\n",
       "      <td>489.0</td>\n",
       "      <td>12.939632</td>\n",
       "      <td>7.081990</td>\n",
       "      <td>1.980</td>\n",
       "      <td>7.37</td>\n",
       "      <td>11.690</td>\n",
       "      <td>17.120</td>\n",
       "      <td>37.970</td>\n",
       "    </tr>\n",
       "    <tr>\n",
       "      <th>PTRATIO</th>\n",
       "      <td>489.0</td>\n",
       "      <td>18.516564</td>\n",
       "      <td>2.111268</td>\n",
       "      <td>12.600</td>\n",
       "      <td>17.40</td>\n",
       "      <td>19.100</td>\n",
       "      <td>20.200</td>\n",
       "      <td>22.000</td>\n",
       "    </tr>\n",
       "  </tbody>\n",
       "</table>\n",
       "</div>"
      ],
      "text/plain": [
       "         count       mean       std     min    25%     50%     75%     max\n",
       "RM       489.0   6.240288  0.643650   3.561   5.88   6.185   6.575   8.398\n",
       "LSTAT    489.0  12.939632  7.081990   1.980   7.37  11.690  17.120  37.970\n",
       "PTRATIO  489.0  18.516564  2.111268  12.600  17.40  19.100  20.200  22.000"
      ]
     },
     "execution_count": 14,
     "metadata": {},
     "output_type": "execute_result"
    }
   ],
   "source": [
    "# Means & medians of all attributes:\n",
    "data[['RM', 'LSTAT', 'PTRATIO']].describe().transpose()"
   ]
  },
  {
   "cell_type": "markdown",
   "metadata": {
    "deletable": true,
    "editable": true
   },
   "source": [
    "**Answer: **\n",
    "\n",
    "- **What price would you recommend each client sell his/her home at? **\n",
    "\n",
    "| Client | Client 1 | Client 2 | Client 3 |\n",
    "| :---: | :---: | :---: | :---: |\n",
    "| Total number of rooms in home | 5 rooms | 4 rooms | 8 rooms |\n",
    "| Neighborhood poverty level (as %) | 17% | 32% | 3% |\n",
    "| Student-teacher ratio of nearby schools | 15-to-1 | 22-to-1 | 12-to-1 |\n",
    "| **Recommended Price in $** | 403,025.00 | 237,478.72 | 931,636.36 |\n",
    "\n",
    "- **Do these prices seem reasonable given the values for the respective features?**\n",
    "\n",
    "It is **reasonable** for the following reasons:"
   ]
  },
  {
   "cell_type": "markdown",
   "metadata": {},
   "source": [
    "#### Correlation Analysis"
   ]
  },
  {
   "cell_type": "markdown",
   "metadata": {},
   "source": [
    "Order the above table by 'total number of rooms in home'(decreasing), 'neighborhood poverty level'(increasing) and 'student-teacher ratio of nearby schools'(increasing) we obtain the following sorted table:\n",
    "\n",
    "| Client | Client 3 | Client 1 | Client 2 |\n",
    "| :---: | :---: | :---: | :---: |\n",
    "| Total number of rooms in home | 8 rooms | 5 rooms | 4 rooms | \n",
    "| Neighborhood poverty level (as %) | 3% | 17% | 32% |\n",
    "| Student-teacher ratio of nearby schools | 12-to-1 | 15-to-1 | 22-to-1 |\n",
    "| **Recommended Price in $** | 931,636.36 | 403,025.00 | 237,478.72 |\n",
    "\n",
    "From the linear regression analysis in Data Exploration section, we know that:\n",
    "\n",
    "| Feature | Correlation with 'Recommended Price'|\n",
    "| :---: | :---: |\n",
    "| Total number of rooms in home | Positive | \n",
    "| Neighborhood poverty level (as %) | Negative |\n",
    "| Student-teacher ratio of nearby schools | Negative |\n",
    "\n",
    "So the recommended prices are consistent with the correlation analysis given by linear regression in Data Exploration section"
   ]
  },
  {
   "cell_type": "markdown",
   "metadata": {},
   "source": [
    "Feature Z-score Analysis"
   ]
  },
  {
   "cell_type": "markdown",
   "metadata": {},
   "source": [
    "Below is the table for mean & stds of each feature:\n",
    "\n",
    "| Feature | Mean | Std |\n",
    "| :---: | :---: | :---: | :---: |\n",
    "| Total number of rooms in home | 6.18 | 0.64 |\n",
    "| Neighborhood poverty level (as %) | 12.93 | 7.08 |\n",
    "| Student-teacher ratio of nearby schools | 18.52 | 2.11 |"
   ]
  },
  {
   "cell_type": "markdown",
   "metadata": {},
   "source": [
    "a. **Client 3**'s house has **both 'RM'and 'PTRATIO' far above the mean values**\n",
    "\n",
    "| Feature | Value | Mean | Std | Z-score |\n",
    "| :---: | :---: | :---: | :---: |\n",
    "| Total number of rooms in home | 8 | 6.18 | 0.64 | 2.84 |\n",
    "| Neighborhood poverty level (as %) | 3 | 12.93 | 7.08 | -1.40 |\n",
    "| Student-teacher ratio of nearby schools | 12 | 18.52 | 2.11 | -3.09 | \n",
    "\n",
    "So its 'MEDV' also lies near the max. value of sample 'MEDV', as indicated by the following picture:"
   ]
  },
  {
   "cell_type": "code",
   "execution_count": 15,
   "metadata": {
    "collapsed": false
   },
   "outputs": [
    {
     "data": {
      "image/png": "[encoded data removed]",
      "text/plain": [
       "<matplotlib.figure.Figure at 0x7f6ca03f7910>"
      ]
     },
     "metadata": {},
     "output_type": "display_data"
    }
   ],
   "source": [
    "plt.hist(prices, bins = 20)\n",
    "plt.axvline(predictions[2], lw = 5, c = 'r')\n",
    "plt.show()"
   ]
  },
  {
   "cell_type": "markdown",
   "metadata": {
    "deletable": true,
    "editable": true
   },
   "source": [
    "b. **Client 1**'s house has **both 'RM', 'LSTAT' and 'PTRATIO' not too far away the mean values**\n",
    "\n",
    "| Feature | Value | Mean | Std | Z-score |\n",
    "| :---: | :---: | :---: | :---: |\n",
    "| Total number of rooms in home | 5 | 6.18 | 0.64 | -1.84 |\n",
    "| Neighborhood poverty level (as %) | 17 | 12.93 | 7.08 | 0.57 |\n",
    "| Student-teacher ratio of nearby schools | 15 | 18.52 | 2.11 | -1.66 | \n",
    "\n",
    "So its 'MEDV' also lies around the mean value of sample 'MEDV', as indicated by the following picture:"
   ]
  },
  {
   "cell_type": "code",
   "execution_count": 16,
   "metadata": {
    "collapsed": false,
    "deletable": true,
    "editable": true
   },
   "outputs": [
    {
     "data": {
      "image/png": "[encoded data removed]",
      "text/plain": [
       "<matplotlib.figure.Figure at 0x7f6ca0472fd0>"
      ]
     },
     "metadata": {},
     "output_type": "display_data"
    }
   ],
   "source": [
    "plt.hist(prices, bins = 20)\n",
    "plt.axvline(predictions[0], lw = 5, c = 'g')\n",
    "plt.show()"
   ]
  },
  {
   "cell_type": "markdown",
   "metadata": {
    "deletable": true,
    "editable": true
   },
   "source": [
    "c. **Client 2**'s house has **both 'RM' and 'LSTAT' far below the mean values**\n",
    "\n",
    "| Feature | Value | Mean | Std | Z-score |\n",
    "| :---: | :---: | :---: | :---: |\n",
    "| Total number of rooms in home | 4 | 6.18 | 0.64 | -3.40 |\n",
    "| Neighborhood poverty level (as %) | 32 | 12.93 | 7.08 | 2.69 |\n",
    "| Student-teacher ratio of nearby schools | 22 | 18.52 | 2.11 | 1.65 | \n",
    "\n",
    "So its 'MEDV' also lies near the min. value of sample 'MEDV', as indicated by the following picture:"
   ]
  },
  {
   "cell_type": "code",
   "execution_count": 17,
   "metadata": {
    "collapsed": false,
    "deletable": true,
    "editable": true
   },
   "outputs": [
    {
     "data": {
      "image/png": "[encoded data removed]",
      "text/plain": [
       "<matplotlib.figure.Figure at 0x7f6ca021bd10>"
      ]
     },
     "metadata": {},
     "output_type": "display_data"
    }
   ],
   "source": [
    "plt.hist(prices, bins = 20)\n",
    "plt.axvline(predictions[1], lw = 5, c = 'b')\n",
    "plt.show()"
   ]
  },
  {
   "cell_type": "markdown",
   "metadata": {},
   "source": [
    "**Based on the above two analysis, I conclude that the three predictions are reasonable.**"
   ]
  },
  {
   "cell_type": "markdown",
   "metadata": {
    "deletable": true,
    "editable": true
   },
   "source": [
    "### Sensitivity\n",
    "If we repeatedly train a model with randomly selected subsets of data, we would expect its predictons to be different based on the specific examples given to it. Here variance is a measure of how much the predictions vary for any given test sample.\n",
    "\n",
    "Some variance is normal, but too much variance indicates that the model is unable to generalize its predictions to the larger population. **High sensitivity to the training set is also known as overfitting**, and generally occurs when **either the model is too complex** or **when we do not have enough data to support it**.\n",
    "\n",
    "We can typically reduce the variability of a model's predictions and increase precision by training on more data. If more data is unavailable, we can also control variance by limiting our model's complexity.\n",
    "\n",
    "An optimal model is not necessarily a robust model. Sometimes, **a model is either too complex or too simple to sufficiently generalize to new data**. Sometimes, a model could use a learning algorithm that is not appropriate for the structure of the data given. Other times, the data itself could be too noisy or contain too few samples to allow a model to adequately capture the target variable — i.e., the model is underfitted. Run the code cell below to run the `fit_model` function ten times with different training and testing sets to see how the prediction for a specific client changes with the data it's trained on."
   ]
  },
  {
   "cell_type": "code",
   "execution_count": 18,
   "metadata": {
    "collapsed": false,
    "deletable": true,
    "editable": true
   },
   "outputs": [
    {
     "name": "stdout",
     "output_type": "stream",
     "text": [
      "Trial 1: $391,183.33\n",
      "Trial 2: $419,700.00\n",
      "Trial 3: $415,800.00\n",
      "Trial 4: $420,622.22\n",
      "Trial 5: $418,377.27\n",
      "Trial 6: $411,931.58\n",
      "Trial 7: $399,663.16\n",
      "Trial 8: $407,232.00\n",
      "Trial 9: $351,577.61\n",
      "Trial 10: $413,700.00\n",
      "\n",
      "Range in prices: $69,044.61\n"
     ]
    }
   ],
   "source": [
    "vs.PredictTrials(features, prices, fit_model, client_data)"
   ]
  },
  {
   "cell_type": "code",
   "execution_count": 19,
   "metadata": {
    "collapsed": false,
    "deletable": true,
    "editable": true
   },
   "outputs": [
    {
     "name": "stdout",
     "output_type": "stream",
     "text": [
      "[Relative Variance]: 5.11%, [Average Price]: 404474.47\n"
     ]
    }
   ],
   "source": [
    "# Analyze prediction robustness:\n",
    "predictions = pd.Series(\n",
    "    [\n",
    "        391183.33,\n",
    "        419700.00,\n",
    "        415800.00,\n",
    "        420622.22,\n",
    "        413334.78,\n",
    "        411931.58,\n",
    "        399663.16,\n",
    "        407232.00,\n",
    "        351577.61,\n",
    "        413700.00\n",
    "    ]\n",
    ")\n",
    "prediction_summary = predictions.describe()\n",
    "print \"[Relative Variance]: {:.2f}%, [Average Price]: {:.2f}\".format(\n",
    "    100*prediction_summary['std']/prediction_summary['mean'],\n",
    "    prediction_summary['mean']\n",
    ")"
   ]
  },
  {
   "cell_type": "markdown",
   "metadata": {
    "deletable": true,
    "editable": true
   },
   "source": [
    "### Question 11 - Applicability\n",
    "*In a few sentences, discuss whether the constructed model should or should not be used in a real-world setting.*  \n",
    "**Hint:** Some questions to answering:\n",
    "- *How relevant today is data that was collected from 1978?*\n",
    "- *Are the features present in the data sufficient to describe a home?*\n",
    "- *Is the model robust enough to make consistent predictions?*\n",
    "- *Would data collected in an urban city like Boston be applicable in a rural city?*"
   ]
  },
  {
   "cell_type": "markdown",
   "metadata": {
    "deletable": true,
    "editable": true
   },
   "source": [
    "**Answer: **\n",
    "\n",
    "To sum up, I don't think the constructed model should be used in real-world setting.\n",
    "\n",
    "- **How relevant today is data that was collected from 1978?**\n",
    "\n",
    "Since house market today might be utterly different from that in 1978, house price data collected from 1978 might be not that relevant today.\n",
    "\n",
    "- **Are the features present in the data sufficient to describe a home?**\n",
    "\n",
    "No. The three features are far from enough to fully explain the variance in house valuation. \n",
    "\n",
    "Personally, I think this is the reason why Kaggle holds an expanded dataset with 79 explanatory variables for advanced house price prediction [link](https://www.kaggle.com/c/house-prices-advanced-regression-techniques)\n",
    "\n",
    "- **Is the model robust enough to make consistent predictions?**\n",
    "\n",
    "No. According to the result in **Sensitivity** section:\n",
    "\n",
    "| Statistic | Value |\n",
    "| :---: | :---: |\n",
    "| Range | \\$69,044.61 | \n",
    "| Average | \\$404474.47 |\n",
    "| Ratio between Range and Average | 5.11% |\n",
    "\n",
    "I think ratio of this scale is too high to be called 'consistent'\n",
    "\n",
    "- **Would data collected in an urban city like Boston be applicable in a rural city?**\n",
    "\n",
    "No. I think the pricing method in urban & rural cities could be totally different. So effective features for one type of city could also lose its predictive power when were applied to the analysis of another type."
   ]
  },
  {
   "cell_type": "markdown",
   "metadata": {
    "deletable": true,
    "editable": true
   },
   "source": [
    "> **Note**: Once you have completed all of the code implementations and successfully answered each question above, you may finalize your work by exporting the iPython Notebook as an HTML document. You can do this by using the menu above and navigating to  \n",
    "**File -> Download as -> HTML (.html)**. Include the finished document along with this notebook as your submission."
   ]
  }
 ],
 "metadata": {
  "anaconda-cloud": {},
  "kernelspec": {
   "display_name": "Python 3",
   "language": "python",
   "name": "python3"
  },
  "language_info": {
   "codemirror_mode": {
    "name": "ipython",
    "version": 3
   },
   "file_extension": ".py",
   "mimetype": "text/x-python",
   "name": "python",
   "nbconvert_exporter": "python",
   "pygments_lexer": "ipython3",
   "version": "3.6.0"
  }
 },
 "nbformat": 4,
 "nbformat_minor": 0
}
