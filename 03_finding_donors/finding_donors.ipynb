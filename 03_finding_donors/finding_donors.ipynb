{
 "cells": [
  {
   "cell_type": "markdown",
   "metadata": {
    "deletable": true,
    "editable": true
   },
   "source": [
    "# Machine Learning Engineer Nanodegree\n",
    "## Supervised Learning\n",
    "## Project: Finding Donors for *CharityML*"
   ]
  },
  {
   "cell_type": "markdown",
   "metadata": {
    "deletable": true,
    "editable": true
   },
   "source": [
    "Welcome to the second project of the Machine Learning Engineer Nanodegree! In this notebook, some template code has already been provided for you, and it will be your job to implement the additional functionality necessary to successfully complete this project. Sections that begin with **'Implementation'** in the header indicate that the following block of code will require additional functionality which you must provide. Instructions will be provided for each section and the specifics of the implementation are marked in the code block with a `'TODO'` statement. Please be sure to read the instructions carefully!\n",
    "\n",
    "In addition to implementing code, there will be questions that you must answer which relate to the project and your implementation. Each section where you will answer a question is preceded by a **'Question X'** header. Carefully read each question and provide thorough answers in the following text boxes that begin with **'Answer:'**. Your project submission will be evaluated based on your answers to each of the questions and the implementation you provide.  \n",
    "\n",
    ">**Note:** Code and Markdown cells can be executed using the **Shift + Enter** keyboard shortcut. In addition, Markdown cells can be edited by typically double-clicking the cell to enter edit mode."
   ]
  },
  {
   "cell_type": "markdown",
   "metadata": {
    "deletable": true,
    "editable": true
   },
   "source": [
    "## Getting Started\n",
    "\n",
    "In this project, you will employ several supervised algorithms of your choice to accurately model individuals' income using data collected from the 1994 U.S. Census. You will then choose the best candidate algorithm from preliminary results and further optimize this algorithm to best model the data. Your goal with this implementation is to construct a model that accurately predicts whether an individual makes more than $50,000. This sort of task can arise in a non-profit setting, where organizations survive on donations.  Understanding an individual's income can help a non-profit better understand how large of a donation to request, or whether or not they should reach out to begin with.  While it can be difficult to determine an individual's general income bracket directly from public sources, we can (as we will see) infer this value from other publically available features. \n",
    "\n",
    "The dataset for this project originates from the [UCI Machine Learning Repository](https://archive.ics.uci.edu/ml/datasets/Census+Income). The datset was donated by Ron Kohavi and Barry Becker, after being published in the article _\"Scaling Up the Accuracy of Naive-Bayes Classifiers: A Decision-Tree Hybrid\"_. You can find the article by Ron Kohavi [online](https://www.aaai.org/Papers/KDD/1996/KDD96-033.pdf). The data we investigate here consists of small changes to the original dataset, such as removing the `'fnlwgt'` feature and records with missing or ill-formatted entries."
   ]
  },
  {
   "cell_type": "markdown",
   "metadata": {
    "deletable": true,
    "editable": true
   },
   "source": [
    "----\n",
    "## Exploring the Data\n",
    "Run the code cell below to load necessary Python libraries and load the census data. Note that the last column from this dataset, `'income'`, will be our target label (whether an individual makes more than, or at most, $50,000 annually). All other columns are features about each individual in the census database."
   ]
  },
  {
   "cell_type": "code",
   "execution_count": 1,
   "metadata": {
    "collapsed": false,
    "deletable": true,
    "editable": true
   },
   "outputs": [
    {
     "data": {
      "text/html": [
       "<div>\n",
       "<table border=\"1\" class=\"dataframe\">\n",
       "  <thead>\n",
       "    <tr style=\"text-align: right;\">\n",
       "      <th></th>\n",
       "      <th>age</th>\n",
       "      <th>workclass</th>\n",
       "      <th>education_level</th>\n",
       "      <th>education-num</th>\n",
       "      <th>marital-status</th>\n",
       "      <th>occupation</th>\n",
       "      <th>relationship</th>\n",
       "      <th>race</th>\n",
       "      <th>sex</th>\n",
       "      <th>capital-gain</th>\n",
       "      <th>capital-loss</th>\n",
       "      <th>hours-per-week</th>\n",
       "      <th>native-country</th>\n",
       "      <th>income</th>\n",
       "    </tr>\n",
       "  </thead>\n",
       "  <tbody>\n",
       "    <tr>\n",
       "      <th>0</th>\n",
       "      <td>39</td>\n",
       "      <td>State-gov</td>\n",
       "      <td>Bachelors</td>\n",
       "      <td>13.0</td>\n",
       "      <td>Never-married</td>\n",
       "      <td>Adm-clerical</td>\n",
       "      <td>Not-in-family</td>\n",
       "      <td>White</td>\n",
       "      <td>Male</td>\n",
       "      <td>2174.0</td>\n",
       "      <td>0.0</td>\n",
       "      <td>40.0</td>\n",
       "      <td>United-States</td>\n",
       "      <td>&lt;=50K</td>\n",
       "    </tr>\n",
       "  </tbody>\n",
       "</table>\n",
       "</div>"
      ],
      "text/plain": [
       "   age   workclass education_level  education-num  marital-status  \\\n",
       "0   39   State-gov       Bachelors           13.0   Never-married   \n",
       "\n",
       "      occupation    relationship    race    sex  capital-gain  capital-loss  \\\n",
       "0   Adm-clerical   Not-in-family   White   Male        2174.0           0.0   \n",
       "\n",
       "   hours-per-week  native-country income  \n",
       "0            40.0   United-States  <=50K  "
      ]
     },
     "metadata": {},
     "output_type": "display_data"
    }
   ],
   "source": [
    "# Import libraries necessary for this project\n",
    "import numpy as np\n",
    "import pandas as pd\n",
    "from time import time\n",
    "from IPython.display import display # Allows the use of display() for DataFrames\n",
    "\n",
    "# Matplotlib visualizer:\n",
    "import matplotlib.pyplot as plt\n",
    "\n",
    "# Import supplementary visualization code visuals.py\n",
    "import visuals as vs\n",
    "\n",
    "# Pretty display for notebooks\n",
    "%matplotlib inline\n",
    "\n",
    "# Load the Census dataset\n",
    "data = pd.read_csv(\"census.csv\")\n",
    "\n",
    "# Success - Display the first record\n",
    "display(data.head(n=1))"
   ]
  },
  {
   "cell_type": "markdown",
   "metadata": {
    "deletable": true,
    "editable": true
   },
   "source": [
    "### Implementation: Data Exploration\n",
    "A cursory investigation of the dataset will determine how many individuals fit into either group, and will tell us about the percentage of these individuals making more than \\$50,000. In the code cell below, you will need to compute the following:\n",
    "- The total number of records, `'n_records'`\n",
    "- The number of individuals making more than \\$50,000 annually, `'n_greater_50k'`.\n",
    "- The number of individuals making at most \\$50,000 annually, `'n_at_most_50k'`.\n",
    "- The percentage of individuals making more than \\$50,000 annually, `'greater_percent'`.\n",
    "\n",
    "**Hint:** You may need to look at the table above to understand how the `'income'` entries are formatted. "
   ]
  },
  {
   "cell_type": "code",
   "execution_count": 2,
   "metadata": {
    "collapsed": false,
    "deletable": true,
    "editable": true
   },
   "outputs": [
    {
     "data": {
      "text/plain": [
       "<=50K    34014\n",
       ">50K     11208\n",
       "Name: income, dtype: int64"
      ]
     },
     "metadata": {},
     "output_type": "display_data"
    }
   ],
   "source": [
    "# Generate income counts:\n",
    "income_counts = data['income'].value_counts()\n",
    "\n",
    "# Analyze the 'income' entries:\n",
    "display(income_counts)"
   ]
  },
  {
   "cell_type": "code",
   "execution_count": 3,
   "metadata": {
    "collapsed": false,
    "deletable": true,
    "editable": true
   },
   "outputs": [
    {
     "name": "stdout",
     "output_type": "stream",
     "text": [
      "Total number of records: 45222\n",
      "Individuals making more than $50,000: 11208\n",
      "Individuals making at most $50,000: 34014\n",
      "Percentage of individuals making more than $50,000: 24.78%\n"
     ]
    }
   ],
   "source": [
    "# Total number of records\n",
    "n_records = data.shape[0]\n",
    "\n",
    "# Number of records where individual's income is more than $50,000\n",
    "n_greater_50k = income_counts['>50K']\n",
    "\n",
    "# Number of records where individual's income is at most $50,000\n",
    "n_at_most_50k = income_counts['<=50K']\n",
    "\n",
    "# TODO: Percentage of individuals whose income is more than $50,000\n",
    "greater_percent = 100.0 * n_greater_50k / income_counts.sum() \n",
    "\n",
    "# Print the results\n",
    "print \"Total number of records: {}\".format(n_records)\n",
    "print \"Individuals making more than $50,000: {}\".format(n_greater_50k)\n",
    "print \"Individuals making at most $50,000: {}\".format(n_at_most_50k)\n",
    "print \"Percentage of individuals making more than $50,000: {:.2f}%\".format(greater_percent)"
   ]
  },
  {
   "cell_type": "markdown",
   "metadata": {
    "deletable": true,
    "editable": true
   },
   "source": [
    "----\n",
    "## Preparing the Data\n",
    "Before data can be used as input for machine learning algorithms, it often must be cleaned, formatted, and restructured — this is typically known as **preprocessing**. Fortunately, for this dataset, there are no invalid or missing entries we must deal with, however, there are some qualities about certain features that must be adjusted. This preprocessing can help tremendously with the outcome and predictive power of nearly all learning algorithms."
   ]
  },
  {
   "cell_type": "markdown",
   "metadata": {
    "deletable": true,
    "editable": true
   },
   "source": [
    "### Transforming Skewed Continuous Features\n",
    "A dataset may sometimes contain at least one feature whose values tend to lie near a single number, but will also have a non-trivial number of vastly larger or smaller values than that single number.  Algorithms can be sensitive to such distributions of values and can underperform if the range is not properly normalized. With the census dataset two features fit this description: '`capital-gain'` and `'capital-loss'`. \n",
    "\n",
    "Run the code cell below to plot a histogram of these two features. Note the range of the values present and how they are distributed."
   ]
  },
  {
   "cell_type": "code",
   "execution_count": 4,
   "metadata": {
    "collapsed": false,
    "deletable": true,
    "editable": true
   },
   "outputs": [
    {
     "data": {
      "image/png": "[encoded data removed]",
      "text/plain": [
       "<matplotlib.figure.Figure at 0x7f1fb823ff90>"
      ]
     },
     "metadata": {},
     "output_type": "display_data"
    }
   ],
   "source": [
    "# Split the data into features and target label\n",
    "income_raw = data['income']\n",
    "features_raw = data.drop('income', axis = 1)\n",
    "\n",
    "# Visualize skewed continuous features of original data\n",
    "vs.distribution(data)"
   ]
  },
  {
   "cell_type": "markdown",
   "metadata": {
    "deletable": true,
    "editable": true
   },
   "source": [
    "For highly-skewed feature distributions such as `'capital-gain'` and `'capital-loss'`, it is common practice to apply a <a href=\"https://en.wikipedia.org/wiki/Data_transformation_(statistics)\">logarithmic transformation</a> on the data so that the very large and very small values do not negatively affect the performance of a learning algorithm. Using a logarithmic transformation significantly reduces the range of values caused by outliers. Care must be taken when applying this transformation however: The logarithm of `0` is undefined, so we must translate the values by a small amount above `0` to apply the the logarithm successfully.\n",
    "\n",
    "Run the code cell below to perform a transformation on the data and visualize the results. Again, note the range of values and how they are distributed. "
   ]
  },
  {
   "cell_type": "code",
   "execution_count": 5,
   "metadata": {
    "collapsed": false,
    "deletable": true,
    "editable": true
   },
   "outputs": [
    {
     "data": {
      "image/png": "[encoded data removed]",
      "text/plain": [
       "<matplotlib.figure.Figure at 0x7f1ffda69b50>"
      ]
     },
     "metadata": {},
     "output_type": "display_data"
    }
   ],
   "source": [
    "# Log-transform the skewed features\n",
    "skewed = ['capital-gain', 'capital-loss']\n",
    "features_raw[skewed] = data[skewed].apply(lambda x: np.log(x + 1))\n",
    "\n",
    "# Visualize the new log distributions\n",
    "vs.distribution(features_raw, transformed = True)"
   ]
  },
  {
   "cell_type": "markdown",
   "metadata": {
    "deletable": true,
    "editable": true
   },
   "source": [
    "### Normalizing Numerical Features\n",
    "In addition to performing transformations on features that are highly skewed, it is often good practice to perform some type of scaling on numerical features. Applying a scaling to the data does not change the shape of each feature's distribution (such as `'capital-gain'` or `'capital-loss'` above); however, normalization ensures that each feature is treated equally when applying supervised learners. Note that once scaling is applied, observing the data in its raw form will no longer have the same original meaning, as exampled below.\n",
    "\n",
    "Run the code cell below to normalize each numerical feature. We will use [`sklearn.preprocessing.MinMaxScaler`](http://scikit-learn.org/stable/modules/generated/sklearn.preprocessing.MinMaxScaler.html) for this."
   ]
  },
  {
   "cell_type": "code",
   "execution_count": 6,
   "metadata": {
    "collapsed": false,
    "deletable": true,
    "editable": true
   },
   "outputs": [
    {
     "data": {
      "text/html": [
       "<div>\n",
       "<table border=\"1\" class=\"dataframe\">\n",
       "  <thead>\n",
       "    <tr style=\"text-align: right;\">\n",
       "      <th></th>\n",
       "      <th>age</th>\n",
       "      <th>workclass</th>\n",
       "      <th>education_level</th>\n",
       "      <th>education-num</th>\n",
       "      <th>marital-status</th>\n",
       "      <th>occupation</th>\n",
       "      <th>relationship</th>\n",
       "      <th>race</th>\n",
       "      <th>sex</th>\n",
       "      <th>capital-gain</th>\n",
       "      <th>capital-loss</th>\n",
       "      <th>hours-per-week</th>\n",
       "      <th>native-country</th>\n",
       "    </tr>\n",
       "  </thead>\n",
       "  <tbody>\n",
       "    <tr>\n",
       "      <th>0</th>\n",
       "      <td>0.30137</td>\n",
       "      <td>State-gov</td>\n",
       "      <td>Bachelors</td>\n",
       "      <td>0.8</td>\n",
       "      <td>Never-married</td>\n",
       "      <td>Adm-clerical</td>\n",
       "      <td>Not-in-family</td>\n",
       "      <td>White</td>\n",
       "      <td>Male</td>\n",
       "      <td>0.02174</td>\n",
       "      <td>0.0</td>\n",
       "      <td>0.397959</td>\n",
       "      <td>United-States</td>\n",
       "    </tr>\n",
       "  </tbody>\n",
       "</table>\n",
       "</div>"
      ],
      "text/plain": [
       "       age   workclass education_level  education-num  marital-status  \\\n",
       "0  0.30137   State-gov       Bachelors            0.8   Never-married   \n",
       "\n",
       "      occupation    relationship    race    sex  capital-gain  capital-loss  \\\n",
       "0   Adm-clerical   Not-in-family   White   Male       0.02174           0.0   \n",
       "\n",
       "   hours-per-week  native-country  \n",
       "0        0.397959   United-States  "
      ]
     },
     "metadata": {},
     "output_type": "display_data"
    }
   ],
   "source": [
    "# Import sklearn.preprocessing.StandardScaler\n",
    "from sklearn.preprocessing import MinMaxScaler\n",
    "\n",
    "# Initialize a scaler, then apply it to the features\n",
    "scaler = MinMaxScaler()\n",
    "numerical = ['age', 'education-num', 'capital-gain', 'capital-loss', 'hours-per-week']\n",
    "features_raw[numerical] = scaler.fit_transform(data[numerical])\n",
    "\n",
    "# Show an example of a record with scaling applied\n",
    "display(features_raw.head(n = 1))"
   ]
  },
  {
   "cell_type": "markdown",
   "metadata": {
    "deletable": true,
    "editable": true
   },
   "source": [
    "### Implementation: Data Preprocessing\n",
    "\n",
    "From the table in **Exploring the Data** above, we can see there are several features for each record that are non-numeric. Typically, learning algorithms expect input to be numeric, which requires that non-numeric features (called *categorical variables*) be converted. One popular way to convert categorical variables is by using the **one-hot encoding** scheme. One-hot encoding creates a _\"dummy\"_ variable for each possible category of each non-numeric feature. For example, assume `someFeature` has three possible entries: `A`, `B`, or `C`. We then encode this feature into `someFeature_A`, `someFeature_B` and `someFeature_C`.\n",
    "\n",
    "|   | someFeature |                    | someFeature_A | someFeature_B | someFeature_C |\n",
    "| :-: | :-: |                            | :-: | :-: | :-: |\n",
    "| 0 |  B  |  | 0 | 1 | 0 |\n",
    "| 1 |  C  | ----> one-hot encode ----> | 0 | 0 | 1 |\n",
    "| 2 |  A  |  | 1 | 0 | 0 |\n",
    "\n",
    "Additionally, as with the non-numeric features, we need to convert the non-numeric target label, `'income'` to numerical values for the learning algorithm to work. Since there are only two possible categories for this label (\"<=50K\" and \">50K\"), we can avoid using one-hot encoding and simply encode these two categories as `0` and `1`, respectively. In code cell below, you will need to implement the following:\n",
    " - Use [`pandas.get_dummies()`](http://pandas.pydata.org/pandas-docs/stable/generated/pandas.get_dummies.html?highlight=get_dummies#pandas.get_dummies) to perform one-hot encoding on the `'features_raw'` data.\n",
    " - Convert the target label `'income_raw'` to numerical entries.\n",
    "   - Set records with \"<=50K\" to `0` and records with \">50K\" to `1`."
   ]
  },
  {
   "cell_type": "code",
   "execution_count": 7,
   "metadata": {
    "collapsed": false,
    "deletable": true,
    "editable": true,
    "scrolled": true
   },
   "outputs": [
    {
     "name": "stdout",
     "output_type": "stream",
     "text": [
      "103 total features after one-hot encoding.\n",
      "age\n",
      "education-num\n",
      "capital-gain\n",
      "capital-loss\n",
      "hours-per-week\n",
      "workclass_ Federal-gov\n",
      "workclass_ Local-gov\n",
      "workclass_ Private\n",
      "workclass_ Self-emp-inc\n",
      "workclass_ Self-emp-not-inc\n",
      "workclass_ State-gov\n",
      "workclass_ Without-pay\n",
      "education_level_ 10th\n",
      "education_level_ 11th\n",
      "education_level_ 12th\n",
      "education_level_ 1st-4th\n",
      "education_level_ 5th-6th\n",
      "education_level_ 7th-8th\n",
      "education_level_ 9th\n",
      "education_level_ Assoc-acdm\n",
      "education_level_ Assoc-voc\n",
      "education_level_ Bachelors\n",
      "education_level_ Doctorate\n",
      "education_level_ HS-grad\n",
      "education_level_ Masters\n",
      "education_level_ Preschool\n",
      "education_level_ Prof-school\n",
      "education_level_ Some-college\n",
      "marital-status_ Divorced\n",
      "marital-status_ Married-AF-spouse\n",
      "marital-status_ Married-civ-spouse\n",
      "marital-status_ Married-spouse-absent\n",
      "marital-status_ Never-married\n",
      "marital-status_ Separated\n",
      "marital-status_ Widowed\n",
      "occupation_ Adm-clerical\n",
      "occupation_ Armed-Forces\n",
      "occupation_ Craft-repair\n",
      "occupation_ Exec-managerial\n",
      "occupation_ Farming-fishing\n",
      "occupation_ Handlers-cleaners\n",
      "occupation_ Machine-op-inspct\n",
      "occupation_ Other-service\n",
      "occupation_ Priv-house-serv\n",
      "occupation_ Prof-specialty\n",
      "occupation_ Protective-serv\n",
      "occupation_ Sales\n",
      "occupation_ Tech-support\n",
      "occupation_ Transport-moving\n",
      "relationship_ Husband\n",
      "relationship_ Not-in-family\n",
      "relationship_ Other-relative\n",
      "relationship_ Own-child\n",
      "relationship_ Unmarried\n",
      "relationship_ Wife\n",
      "race_ Amer-Indian-Eskimo\n",
      "race_ Asian-Pac-Islander\n",
      "race_ Black\n",
      "race_ Other\n",
      "race_ White\n",
      "sex_ Female\n",
      "sex_ Male\n",
      "native-country_ Cambodia\n",
      "native-country_ Canada\n",
      "native-country_ China\n",
      "native-country_ Columbia\n",
      "native-country_ Cuba\n",
      "native-country_ Dominican-Republic\n",
      "native-country_ Ecuador\n",
      "native-country_ El-Salvador\n",
      "native-country_ England\n",
      "native-country_ France\n",
      "native-country_ Germany\n",
      "native-country_ Greece\n",
      "native-country_ Guatemala\n",
      "native-country_ Haiti\n",
      "native-country_ Holand-Netherlands\n",
      "native-country_ Honduras\n",
      "native-country_ Hong\n",
      "native-country_ Hungary\n",
      "native-country_ India\n",
      "native-country_ Iran\n",
      "native-country_ Ireland\n",
      "native-country_ Italy\n",
      "native-country_ Jamaica\n",
      "native-country_ Japan\n",
      "native-country_ Laos\n",
      "native-country_ Mexico\n",
      "native-country_ Nicaragua\n",
      "native-country_ Outlying-US(Guam-USVI-etc)\n",
      "native-country_ Peru\n",
      "native-country_ Philippines\n",
      "native-country_ Poland\n",
      "native-country_ Portugal\n",
      "native-country_ Puerto-Rico\n",
      "native-country_ Scotland\n",
      "native-country_ South\n",
      "native-country_ Taiwan\n",
      "native-country_ Thailand\n",
      "native-country_ Trinadad&Tobago\n",
      "native-country_ United-States\n",
      "native-country_ Vietnam\n",
      "native-country_ Yugoslavia\n"
     ]
    }
   ],
   "source": [
    "# One-hot encode the 'features_raw' data using pandas.get_dummies()\n",
    "features = pd.get_dummies(features_raw)\n",
    "\n",
    "# Encode the 'income_raw' data to numerical values\n",
    "income = (income_raw == \">50K\").astype(np.int)\n",
    "\n",
    "# Print the number of features after one-hot encoding\n",
    "encoded = list(features.columns)\n",
    "print \"{} total features after one-hot encoding.\".format(len(encoded))\n",
    "\n",
    "# Uncomment the following line to see the encoded feature names\n",
    "for col_name in encoded:\n",
    "    print col_name"
   ]
  },
  {
   "cell_type": "markdown",
   "metadata": {
    "deletable": true,
    "editable": true
   },
   "source": [
    "### Shuffle and Split Data\n",
    "Now all _categorical variables_ have been converted into numerical features, and all numerical features have been normalized. As always, we will now split the data (both features and their labels) into training and test sets. 80% of the data will be used for training and 20% for testing.\n",
    "\n",
    "Run the code cell below to perform this split."
   ]
  },
  {
   "cell_type": "code",
   "execution_count": 8,
   "metadata": {
    "collapsed": false,
    "deletable": true,
    "editable": true
   },
   "outputs": [
    {
     "name": "stdout",
     "output_type": "stream",
     "text": [
      "Training set has 36177 samples.\n",
      "Testing set has 9045 samples.\n"
     ]
    }
   ],
   "source": [
    "# Import train_test_split\n",
    "from sklearn.model_selection import train_test_split\n",
    "\n",
    "# Split the 'features' and 'income' data into training and testing sets\n",
    "X_train, X_test, y_train, y_test = train_test_split(features, income, test_size = 0.2, random_state = 0)\n",
    "\n",
    "# Show the results of the split\n",
    "print \"Training set has {} samples.\".format(X_train.shape[0])\n",
    "print \"Testing set has {} samples.\".format(X_test.shape[0])"
   ]
  },
  {
   "cell_type": "markdown",
   "metadata": {
    "deletable": true,
    "editable": true
   },
   "source": [
    "----\n",
    "## Evaluating Model Performance\n",
    "In this section, we will investigate four different algorithms, and determine which is best at modeling the data. Three of these algorithms will be supervised learners of your choice, and the fourth algorithm is known as a *naive predictor*."
   ]
  },
  {
   "cell_type": "markdown",
   "metadata": {
    "deletable": true,
    "editable": true
   },
   "source": [
    "### Metrics and the Naive Predictor\n",
    "*CharityML*, equipped with their research, knows individuals that make more than \\$50,000 are most likely to donate to their charity. Because of this, *CharityML* is particularly interested in predicting who makes more than \\$50,000 accurately. It would seem that using **accuracy** as a metric for evaluating a particular model's performace would be appropriate. Additionally, identifying someone that *does not* make more than \\$50,000 as someone who does would be detrimental to *CharityML*, since they are looking to find individuals willing to donate. Therefore, a model's ability to precisely predict those that make more than \\$50,000 is *more important* than the model's ability to **recall** those individuals. We can use **F-beta score** as a metric that considers both precision and recall:\n",
    "\n",
    "$$ F_{\\beta} = (1 + \\beta^2) \\cdot \\frac{precision \\cdot recall}{\\left( \\beta^2 \\cdot precision \\right) + recall} $$\n",
    "\n",
    "In particular, when $\\beta = 0.5$, more emphasis is placed on precision. This is called the **F$_{0.5}$ score** (or F-score for simplicity).\n",
    "\n",
    "Looking at the distribution of classes (those who make at most \\$50,000, and those who make more), it's clear most individuals do not make more than \\$50,000. This can greatly affect **accuracy**, since we could simply say *\"this person does not make more than \\$50,000\"* and generally be right, without ever looking at the data! Making such a statement would be called **naive**, since we have not considered any information to substantiate the claim. It is always important to consider the *naive prediction* for your data, to help establish a benchmark for whether a model is performing well. That been said, using that prediction would be pointless: If we predicted all people made less than \\$50,000, *CharityML* would identify no one as donors. "
   ]
  },
  {
   "cell_type": "markdown",
   "metadata": {
    "deletable": true,
    "editable": true
   },
   "source": [
    "### Question 1 - Naive Predictor Performace\n",
    "*If we chose a model that always predicted an individual made more than \\$50,000, what would that model's accuracy and F-score be on this dataset?*  \n",
    "**Note:** You must use the code cell below and assign your results to `'accuracy'` and `'fscore'` to be used later."
   ]
  },
  {
   "cell_type": "code",
   "execution_count": 9,
   "metadata": {
    "collapsed": true,
    "deletable": true,
    "editable": true
   },
   "outputs": [],
   "source": [
    "# Set up session:\n",
    "from sklearn.metrics import confusion_matrix\n",
    "\n",
    "# Implementations of performance metrics:\n",
    "def accuracy_score(y_true, y_pred):\n",
    "    \"\"\" Accuracy score \n",
    "    \"\"\"\n",
    "    return np.mean(y_true==y_pred)\n",
    "\n",
    "def fbeta_score(y_true, y_pred, beta):\n",
    "    conf_mat = confusion_matrix(y_true, y_pred)\n",
    "    \n",
    "    precision = conf_mat[1, 1] / np.sum(conf_mat[:, 1]).astype(np.float)\n",
    "    recall = conf_mat[1, 1] / np.sum(conf_mat[1, :]).astype(np.float)\n",
    "    \n",
    "    score = (1+beta**2)*precision*recall/(beta**2*precision+recall)\n",
    "    \n",
    "    return score"
   ]
  },
  {
   "cell_type": "code",
   "execution_count": 10,
   "metadata": {
    "collapsed": false,
    "deletable": true,
    "editable": true
   },
   "outputs": [
    {
     "name": "stdout",
     "output_type": "stream",
     "text": [
      "Naive Predictor: [Accuracy score: 0.2478, F-score: 0.2917]\n"
     ]
    }
   ],
   "source": [
    "# Naive classifier:\n",
    "y_pred_naive = np.ones_like(income)\n",
    "\n",
    "# Calculate accuracy\n",
    "accuracy = accuracy_score(income, y_pred_naive)\n",
    "'''\n",
    "The beta parameter determines the weight of precision in the combined score. \n",
    "beta < 1 lends more weight to precision, (beta -> 0 considers only precision).\n",
    "while beta > 1 favors recall (beta -> inf only recall)\n",
    "'''\n",
    "# Calculate F-score using the formula above for beta = 0.5\n",
    "fscore = fbeta_score(income, y_pred_naive, 0.5)\n",
    "# Print the results \n",
    "print \"Naive Predictor: [Accuracy score: {:.4f}, F-score: {:.4f}]\".format(accuracy, fscore)"
   ]
  },
  {
   "cell_type": "markdown",
   "metadata": {
    "deletable": true,
    "editable": true
   },
   "source": [
    "###  Supervised Learning Models\n",
    "**The following supervised learning models are currently available in** [`scikit-learn`](http://scikit-learn.org/stable/supervised_learning.html) **that you may choose from:**\n",
    "- Gaussian Naive Bayes (GaussianNB)\n",
    "- Decision Trees\n",
    "- Ensemble Methods (Bagging, AdaBoost, Random Forest, Gradient Boosting)\n",
    "- K-Nearest Neighbors (KNeighbors)\n",
    "- Stochastic Gradient Descent Classifier (SGDC)\n",
    "- Support Vector Machines (SVM)\n",
    "- Logistic Regression"
   ]
  },
  {
   "cell_type": "markdown",
   "metadata": {
    "deletable": true,
    "editable": true
   },
   "source": [
    "### Question 2 - Model Application\n",
    "List three of the supervised learning models above that are appropriate for this problem that you will test on the census data. For each model chosen\n",
    "- *Describe one real-world application in industry where the model can be applied.* (You may need to do research for this — give references!)\n",
    "- *What are the strengths of the model; when does it perform well?*\n",
    "- *What are the weaknesses of the model; when does it perform poorly?*\n",
    "- *What makes this model a good candidate for the problem, given what you know about the data?*"
   ]
  },
  {
   "cell_type": "markdown",
   "metadata": {
    "deletable": true,
    "editable": true
   },
   "source": [
    "**Answer: **"
   ]
  },
  {
   "cell_type": "markdown",
   "metadata": {
    "deletable": true,
    "editable": true
   },
   "source": [
    "**Algorithm One--SVM**\n",
    "- **_Describe one real-world application in industry where the model can be applied._** \n",
    "  \n",
    "  In my opinion, SVM is the culmination of linear classifier. It is widely used in **image classification** algorithms such as:\n",
    "  \n",
    "  **a.** Dlib's non-deep-learning-based object detector [Paper](https://arxiv.org/abs/1502.00046) [Release Note](http://blog.dlib.net/2014/02/dlib-186-released-make-your-own-object.html)\n",
    "  \n",
    "  **b.** Output layer of convolutional neural net for binary classification [Stanford CS231n Lecture Note](http://cs231n.github.io/linear-classify/)\n",
    "  \n",
    "- **_What are the strengths of the model; when does it perform well?_**\n",
    "\n",
    "  I compiled the following answers from [sklearn SVM user guide](http://scikit-learn.org/stable/modules/svm.html#svm-classification)\n",
    "\n",
    "  **a.** Effective in high dimensional spaces.\n",
    "  \n",
    "  **b.** Still effective in cases where number of dimensions is greater than the number of samples.\n",
    "  \n",
    "  **c.** Uses a subset of training points in the decision function (as support vectors), so it is also memory efficient.\n",
    "  \n",
    "  **d.** Versatile: different Kernel functions can be specified for the decision function. Common kernels are provided, but it is also possible to specify custom kernels.\n",
    "\n",
    "- **_What are the weaknesses of the model; when does it perform poorly?_**\n",
    "\n",
    "  I compiled the following answers from [sklearn SVM user guide](http://scikit-learn.org/stable/modules/svm.html#svm-classification)\n",
    "  \n",
    "  **a.** If the number of features is much greater than the number of samples, the method is likely to give poor performances.\n",
    "\n",
    "  **b.** SVMs do not directly provide probability estimates, these are calculated using an expensive five-fold cross-validation (see Scores and probabilities, below).\n",
    "  \n",
    "  Additionally, there are some points summarized from personal use experience:\n",
    "  \n",
    "  **c.** Only linear SVM can scale well since only linear SVM can be solved using gradient descent, Kernel SVM is not suitable for large-scale, distributed application\n",
    "  \n",
    "- **_What makes this model a good candidate for the problem, given what you know about the data?_**\n",
    "\n",
    "  **a.** The problem has a high dimensional (103 features in total) feature space and it's likely to be linearly seperable;\n",
    "  \n",
    "  **b.** I prefer to use linear classifier as my non-dummy baseline model in order to estimate the intrinsic complexity of the problem."
   ]
  },
  {
   "cell_type": "markdown",
   "metadata": {
    "deletable": true,
    "editable": true
   },
   "source": [
    "**Algorithm Two--Random Forest**\n",
    "- **_Describe one real-world application in industry where the model can be applied._** \n",
    "  \n",
    "  Random forest can be applied in any place where you need both a powerful and explainable predictive model. I found the following example using Google:\n",
    "  \n",
    "  **a.** Diabetic Retinopathy Classification Analyses [Paper](https://www.ncbi.nlm.nih.gov/pmc/articles/PMC4062420/)\n",
    "  \n",
    "- **_What are the strengths of the model; when does it perform well?_**\n",
    "\n",
    "  I summarize the following answer from my personal use experience:\n",
    "\n",
    "  **a.** Insensitive to feature scale(unlike those ones using matrix multiplication like SVM & NN).\n",
    "  \n",
    "  **b.** Can model non-linear decision boundary(multiple consecutive lines parallel to axes).\n",
    "  \n",
    "  **c.** Can strike a good balance between bias(intrinsic to decision tree) and variance(reduced variance through bootstrap aggregation and feature selection in random subspace).\n",
    "  \n",
    "  **d.** Explainable\n",
    "  \n",
    "  **e.** Scalable. it fits very well with distributed computing.\n",
    "\n",
    "- **_What are the weaknesses of the model; when does it perform poorly?_**\n",
    "\n",
    "  **a.** Compared with SVM, it needs more data to make sure its bagging strategy works.\n",
    "  \n",
    "  **b.** Compared with SVM, it has inferior run time predictive performance since it has to go through many decision trees.\n",
    "  \n",
    "  **c.** Can only capture elementary interaction between features. Not as powerful as neural nets.\n",
    "  \n",
    "- **_What makes this model a good candidate for the problem, given what you know about the data?_**\n",
    "\n",
    "  **a.** Ensemble B&B is the go-to algorithm for typical data mining applications.\n",
    "  \n",
    "  **b.** It is both powerful and explainable."
   ]
  },
  {
   "cell_type": "markdown",
   "metadata": {
    "deletable": true,
    "editable": true
   },
   "source": [
    "**Algorithm Three--Gradient Boosting Tree(from XGBoost)**\n",
    "- **_Describe one real-world application in industry where the model can be applied._** \n",
    "  \n",
    "  XGBoost is amazing! It wins challenges in both store sales prediction, high-energy physics event classification and web text classification [XGBoost: A Scalable Tree Boosting System](https://arxiv.org/abs/1603.02754) \n",
    "  \n",
    "  **a.** Among the 29 challenge winning solutions published at Kaggle blog during 2015, 17 solutions used XGBoost [XGBoost: A Scalable Tree Boosting System](https://arxiv.org/abs/1603.02754) \n",
    "  \n",
    "- **_What are the strengths of the model; when does it perform well?_**\n",
    "\n",
    "  I summarize the following answer from my personal use experience:\n",
    "  \n",
    "  **a.** Insensitive to feature scale and able to model non-linear decision boundary(when tree booster is used).\n",
    "  \n",
    "  **b.** Very powerful due to its gradient boosting nature.\n",
    "  \n",
    "  **c.** Use second-order approximation for better performance.\n",
    "  \n",
    "  **d.** Highly efficient & scalable.\n",
    "\n",
    "- **_What are the weaknesses of the model; when does it perform poorly?_**\n",
    "  \n",
    "  **a.** Its training is sequential.\n",
    "  \n",
    "  **b.** Not as powerful as neural nets.\n",
    "  \n",
    "- **_What makes this model a good candidate for the problem, given what you know about the data?_**\n",
    "\n",
    "  **a.** It's a well-established MLDM algorithm in Kaggle community.\n",
    "  \n",
    "  **b.** Able to provide feature importance analysis thus explainable."
   ]
  },
  {
   "cell_type": "markdown",
   "metadata": {
    "deletable": true,
    "editable": true
   },
   "source": [
    "### Implementation - Creating a Training and Predicting Pipeline\n",
    "To properly evaluate the performance of each model you've chosen, it's important that you create a training and predicting pipeline that allows you to quickly and effectively train models using various sizes of training data and perform predictions on the testing data. Your implementation here will be used in the following section.\n",
    "In the code block below, you will need to implement the following:\n",
    " - Import `fbeta_score` and `accuracy_score` from [`sklearn.metrics`](http://scikit-learn.org/stable/modules/classes.html#sklearn-metrics-metrics).\n",
    " - Fit the learner to the sampled training data and record the training time.\n",
    " - Perform predictions on the test data `X_test`, and also on the first 300 training points `X_train[:300]`.\n",
    "   - Record the total prediction time.\n",
    " - Calculate the accuracy score for both the training subset and testing set.\n",
    " - Calculate the F-score for both the training subset and testing set.\n",
    "   - Make sure that you set the `beta` parameter!"
   ]
  },
  {
   "cell_type": "code",
   "execution_count": 11,
   "metadata": {
    "collapsed": false,
    "deletable": true,
    "editable": true
   },
   "outputs": [],
   "source": [
    "# Import two metrics from sklearn - fbeta_score and accuracy_score\n",
    "from sklearn.metrics import fbeta_score, accuracy_score\n",
    "\n",
    "def train_predict(learner, sample_size, X_train, y_train, X_test, y_test): \n",
    "    '''\n",
    "    inputs:\n",
    "       - learner: the learning algorithm to be trained and predicted on\n",
    "       - sample_size: the size of samples (number) to be drawn from training set\n",
    "       - X_train: features training set\n",
    "       - y_train: income training set\n",
    "       - X_test: features testing set\n",
    "       - y_test: income testing set\n",
    "    '''\n",
    "    # Results dict:\n",
    "    results = {}\n",
    "\n",
    "    ''' Sample Method 1: Random\n",
    "    # Number of training examples:\n",
    "    N_train = X_train.shape[0]\n",
    "    \n",
    "    # Model fitting set from training set:\n",
    "    idx_fit_train = np.random.choice(N_train, sample_size, replace=False)\n",
    "    X_fit_train, y_fit_train = X_train[idx_fit_train], y_train[idx_fit_train]     \n",
    "    '''   \n",
    "    ''' Sample Method 2: Slicing\n",
    "    \n",
    "    '''\n",
    "    X_fit_train, y_fit_train = X_train[:sample_size], y_train[:sample_size]\n",
    "    \n",
    "    # Fit the learner to the training data using slicing with 'sample_size'\n",
    "    start = time() # Get start time\n",
    "    learner = learner.fit(X_fit_train, y_fit_train)\n",
    "    end = time()   # Get end time\n",
    "    \n",
    "    # Calculate the training time\n",
    "    results['train_time'] = end - start\n",
    "            \n",
    "    # Evaluation set from training set:\n",
    "    N_evaluate_train = 300\n",
    "    X_evaluate_train, y_evaluate_train = X_train[:N_evaluate_train], y_train[:N_evaluate_train]\n",
    "    \n",
    "    # Get the predictions on the test set,\n",
    "    # then get predictions on the first 300 training samples    \n",
    "    start = time() # Get start time\n",
    "    predictions_train = learner.predict(X_evaluate_train)\n",
    "    predictions_test = learner.predict(X_test)\n",
    "    end = time() # Get end time\n",
    "    \n",
    "    # TCalculate the total prediction time\n",
    "    results['pred_time'] = end - start\n",
    "            \n",
    "    # Compute accuracy on the first 300 training samples\n",
    "    results['acc_train'] = accuracy_score(y_evaluate_train, predictions_train)\n",
    "        \n",
    "    # TODO: Compute accuracy on test set\n",
    "    results['acc_test'] = accuracy_score(y_test, predictions_test)\n",
    "    \n",
    "    # TODO: Compute F-score on the the first 300 training samples\n",
    "    results['f_train'] = fbeta_score(y_evaluate_train, predictions_train, beta = 0.5)\n",
    "        \n",
    "    # TODO: Compute F-score on the test set\n",
    "    results['f_test'] = fbeta_score(y_test, predictions_test, beta = 0.5)\n",
    "       \n",
    "    # Success\n",
    "    print \"{} trained on {} samples.\".format(learner.__class__.__name__, sample_size)\n",
    "        \n",
    "    # Return the results\n",
    "    return results"
   ]
  },
  {
   "cell_type": "markdown",
   "metadata": {
    "deletable": true,
    "editable": true
   },
   "source": [
    "### Implementation: Initial Model Evaluation\n",
    "In the code cell, you will need to implement the following:\n",
    "- Import the three supervised learning models you've discussed in the previous section.\n",
    "- Initialize the three models and store them in `'clf_A'`, `'clf_B'`, and `'clf_C'`.\n",
    "  - Use a `'random_state'` for each model you use, if provided.\n",
    "  - **Note:** Use the default settings for each model — you will tune one specific model in a later section.\n",
    "- Calculate the number of records equal to 1%, 10%, and 100% of the training data.\n",
    "  - Store those values in `'samples_1'`, `'samples_10'`, and `'samples_100'` respectively.\n",
    "\n",
    "**Note:** Depending on which algorithms you chose, the following implementation may take some time to run!"
   ]
  },
  {
   "cell_type": "code",
   "execution_count": 12,
   "metadata": {
    "collapsed": false,
    "deletable": true,
    "editable": true
   },
   "outputs": [
    {
     "name": "stderr",
     "output_type": "stream",
     "text": [
      "/home/alexge/.virtualenvs/tensorflow/local/lib/python2.7/site-packages/sklearn/cross_validation.py:44: DeprecationWarning: This module was deprecated in version 0.18 in favor of the model_selection module into which all the refactored classes and functions are moved. Also note that the interface of the new CV iterators are different from that of this module. This module will be removed in 0.20.\n",
      "  \"This module will be removed in 0.20.\", DeprecationWarning)\n"
     ]
    },
    {
     "name": "stdout",
     "output_type": "stream",
     "text": [
      "LinearSVC trained on 362 samples.\n",
      "LinearSVC trained on 3618 samples.\n",
      "LinearSVC trained on 36177 samples.\n",
      "RandomForestClassifier trained on 362 samples.\n",
      "RandomForestClassifier trained on 3618 samples.\n",
      "RandomForestClassifier trained on 36177 samples.\n",
      "XGBClassifier trained on 362 samples.\n",
      "XGBClassifier trained on 3618 samples.\n",
      "XGBClassifier trained on 36177 samples.\n"
     ]
    },
    {
     "data": {
      "image/png": "[encoded data removed]",
      "text/plain": [
       "<matplotlib.figure.Figure at 0x7f1fb53b8a10>"
      ]
     },
     "metadata": {},
     "output_type": "display_data"
    }
   ],
   "source": [
    "# Import the three supervised learning models from sklearn\n",
    "from sklearn.svm import LinearSVC\n",
    "from sklearn.ensemble import RandomForestClassifier\n",
    "from xgboost import XGBClassifier\n",
    "\n",
    "# Initialize the three models\n",
    "clf_A = LinearSVC(random_state=42)\n",
    "clf_B = RandomForestClassifier(random_state=42, n_jobs=-1)\n",
    "clf_C = XGBClassifier(seed=42)\n",
    "\n",
    "# Helper method for sample size calculation:\n",
    "N_train = X_train.shape[0]\n",
    "\n",
    "def num_by_percent(percentage):\n",
    "    \"\"\" Get the number of samples for the given percentange of the training data\n",
    "    \"\"\"\n",
    "    return np.round(percentage*N_train).astype(np.int)\n",
    "\n",
    "# Calculate the number of samples for 1%, 10%, and 100% of the training data:\n",
    "samples_1 = num_by_percent(0.01)\n",
    "samples_10 = num_by_percent(0.10)\n",
    "samples_100 = num_by_percent(1.00)\n",
    "\n",
    "# Collect results on the learners\n",
    "results = {}\n",
    "for clf in [clf_A, clf_B, clf_C]:\n",
    "    clf_name = clf.__class__.__name__\n",
    "    results[clf_name] = {}\n",
    "    for i, samples in enumerate([samples_1, samples_10, samples_100]):\n",
    "        results[clf_name][i] = \\\n",
    "        train_predict(clf, samples, X_train, y_train, X_test, y_test)\n",
    "\n",
    "# Run metrics visualization for the three supervised learning models chosen\n",
    "vs.evaluate(results, accuracy, fscore)"
   ]
  },
  {
   "cell_type": "markdown",
   "metadata": {
    "deletable": true,
    "editable": true
   },
   "source": [
    "----\n",
    "## Improving Results\n",
    "In this final section, you will choose from the three supervised learning models the *best* model to use on the student data. You will then perform a grid search optimization for the model over the entire training set (`X_train` and `y_train`) by tuning at least one parameter to improve upon the untuned model's F-score. "
   ]
  },
  {
   "cell_type": "markdown",
   "metadata": {
    "deletable": true,
    "editable": true
   },
   "source": [
    "### Question 3 - Choosing the Best Model\n",
    "*Based on the evaluation you performed earlier, in one to two paragraphs, explain to *CharityML* which of the three models you believe to be most appropriate for the task of identifying individuals that make more than \\$50,000.*  \n",
    "**Hint:** Your answer should include discussion of the metrics, prediction/training time, and the algorithm's suitability for the data."
   ]
  },
  {
   "cell_type": "markdown",
   "metadata": {
    "deletable": true,
    "editable": true
   },
   "source": [
    "**Answer: **\n",
    "\n",
    "I choose **XGBClassifier** for the following reasons\n",
    "\n",
    "a. Metrics: It outperforms the other two algorithms at every training set size in both accuracy score and f-beta score.\n",
    "\n",
    "b. Prediction/Training Time: It attained an impressive predictive performance at the cost of slightly slower prediction time than linear SVC. Personally, efficient prediction is vital for model as a service deployment while longer training time is endurable since it is generally done offline.\n",
    "\n",
    "c. Algorithm's Suitability: It can support the feature importance analysis required and f-beta score can be used directly in early stopping training."
   ]
  },
  {
   "cell_type": "markdown",
   "metadata": {
    "deletable": true,
    "editable": true
   },
   "source": [
    "### Question 4 - Describing the Model in Layman's Terms\n",
    "*In one to two paragraphs, explain to *CharityML*, in layman's terms, how the final model chosen is supposed to work. Be sure that you are describing the major qualities of the model, such as how the model is trained and how the model makes a prediction. Avoid using advanced mathematical or technical jargon, such as describing equations or discussing the algorithm implementation.*"
   ]
  },
  {
   "cell_type": "markdown",
   "metadata": {
    "deletable": true,
    "editable": true
   },
   "source": [
    "**Answer: ** \n",
    "\n",
    "After getting a bunch of candidates and knowing whether each candidate could make more than $50,000, I built up the model as a panel of experts for you. \n",
    "\n",
    "(In Non-Layman's Terms: I choose a supervised ensemble learning method for this problem.)\n",
    "\n",
    "Each expert would ask a series of 6 questions such as \"How many hours does the candidate work per week?\". It will ask more informative question first and output a score indicating the likelihood of the candidate making more than $50,000.\n",
    "\n",
    "(In Non-Layman's Terms: Each of the booster is a decision tree regressor with max-depth of 6. Its output is the preactivation z-score of logistic function which is an indicator of posterior probability of the candidate making more than $50,000)\n",
    "\n",
    "In order to assure the model performance, the experts will give you advice one by one, each refines his own suggestion based on all the advice provided by former experts. The final result presented by the model is in essence a step-by-step polished analysis given by the whole panel of experts.\n",
    "\n",
    "(In Non-Layman's Terms: Gradient boosting will train the newly added booster based on the sum of all outputs of previous boosters, thus approximate the optimal decision function step by step.)"
   ]
  },
  {
   "cell_type": "markdown",
   "metadata": {
    "deletable": true,
    "editable": true
   },
   "source": [
    "### Implementation: Model Tuning\n",
    "Fine tune the chosen model. Use grid search (`GridSearchCV`) with at least one important parameter tuned with at least 3 different values. You will need to use the entire training set for this. In the code cell below, you will need to implement the following:\n",
    "- Import [`sklearn.grid_search.GridSearchCV`](http://scikit-learn.org/0.17/modules/generated/sklearn.grid_search.GridSearchCV.html) and [`sklearn.metrics.make_scorer`](http://scikit-learn.org/stable/modules/generated/sklearn.metrics.make_scorer.html).\n",
    "- Initialize the classifier you've chosen and store it in `clf`.\n",
    " - Set a `random_state` if one is available to the same state you set before.\n",
    "- Create a dictionary of parameters you wish to tune for the chosen model.\n",
    " - Example: `parameters = {'parameter' : [list of values]}`.\n",
    " - **Note:** Avoid tuning the `max_features` parameter of your learner if that parameter is available!\n",
    "- Use `make_scorer` to create an `fbeta_score` scoring object (with $\\beta = 0.5$).\n",
    "- Perform grid search on the classifier `clf` using the `'scorer'`, and store it in `grid_obj`.\n",
    "- Fit the grid search object to the training data (`X_train`, `y_train`), and store it in `grid_fit`.\n",
    "\n",
    "**Note:** Depending on the algorithm chosen and the parameter list, the following implementation may take some time to run!"
   ]
  },
  {
   "cell_type": "code",
   "execution_count": 13,
   "metadata": {
    "collapsed": false,
    "deletable": true,
    "editable": true
   },
   "outputs": [
    {
     "name": "stdout",
     "output_type": "stream",
     "text": [
      "Fitting 10 folds for each of 2 candidates, totalling 20 fits\n"
     ]
    },
    {
     "name": "stderr",
     "output_type": "stream",
     "text": [
      "[Parallel(n_jobs=1)]: Done  20 out of  20 | elapsed:   41.4s finished\n",
      "/home/alexge/.virtualenvs/tensorflow/local/lib/python2.7/site-packages/sklearn/model_selection/_search.py:667: DeprecationWarning: The grid_scores_ attribute was deprecated in version 0.18 in favor of the more elaborate cv_results_ attribute. The grid_scores_ attribute will not be available from 0.20\n",
      "  DeprecationWarning)\n"
     ]
    },
    {
     "name": "stdout",
     "output_type": "stream",
     "text": [
      "{'colsample_bylevel': 1.0, 'learning_rate': 0.1, 'n_estimators': 100, 'subsample': 1.0, 'reg_lambda': 1.0, 'max_depth': 6}\n",
      "Unoptimized model\n",
      "------\n",
      "Accuracy score on testing data: 0.8632\n",
      "F-score on testing data: 0.7435\n",
      "\n",
      "Optimized Model\n",
      "------\n",
      "Final accuracy score on the testing data: 0.8700\n",
      "Final F-score on the testing data: 0.7522\n"
     ]
    }
   ],
   "source": [
    "# TODO: Import 'GridSearchCV', 'make_scorer', and any other necessary libraries\n",
    "# CV set generation:\n",
    "from sklearn.model_selection import ShuffleSplit\n",
    "# Evaluation metric:\n",
    "from sklearn.metrics import make_scorer\n",
    "# Hyperparameter tuning:\n",
    "from sklearn.model_selection import GridSearchCV\n",
    "\n",
    "# Create cross-validation sets from the training data\n",
    "cv_sets = ShuffleSplit(n_splits = 10, test_size = 0.10, random_state = 0).split(X_train)\n",
    "\n",
    "# TODO: Initialize the classifier\n",
    "clf = XGBClassifier(\n",
    "    nthread=8\n",
    ")\n",
    "\n",
    "# TODO: Create the parameters list you wish to tune\n",
    "params = {\n",
    "    \"max_depth\": [6],\n",
    "    \"learning_rate\": [0.1],\n",
    "    \"n_estimators\": [80, 100],\n",
    "    \"subsample\": [1.0],\n",
    "    \"colsample_bylevel\": [1.0],\n",
    "    \"reg_lambda\": [1.0]\n",
    "}\n",
    "\n",
    "# TODO: Make an fbeta_score scoring object\n",
    "scorer = make_scorer(fbeta_score, beta = 0.5)\n",
    "\n",
    "# TODO: Perform grid search on the classifier using 'scorer' as the scoring method\n",
    "grid_obj = GridSearchCV(\n",
    "    estimator = clf,\n",
    "    param_grid = params, \n",
    "    scoring = scorer,\n",
    "    cv = cv_sets,\n",
    "    n_jobs = 1,\n",
    "    verbose = 1\n",
    ")\n",
    "\n",
    "# TODO: Fit the grid search object to the training data and find the optimal parameters\n",
    "grid_fit = grid_obj.fit(X_train, y_train)\n",
    "\n",
    "# Get the estimator\n",
    "best_clf = grid_fit.best_estimator_\n",
    "\n",
    "# Get parameters & scores:\n",
    "best_parameters, score, _ = max(grid_fit.grid_scores_, key=lambda x: x[1])\n",
    "print(best_parameters)\n",
    "\n",
    "# Make predictions using the unoptimized and model\n",
    "predictions = (clf.fit(X_train, y_train)).predict(X_test)\n",
    "best_predictions = best_clf.predict(X_test)\n",
    "\n",
    "# Report the before-and-afterscores\n",
    "print \"Unoptimized model\\n------\"\n",
    "print \"Accuracy score on testing data: {:.4f}\".format(accuracy_score(y_test, predictions))\n",
    "print \"F-score on testing data: {:.4f}\".format(fbeta_score(y_test, predictions, beta = 0.5))\n",
    "print \"\\nOptimized Model\\n------\"\n",
    "print \"Final accuracy score on the testing data: {:.4f}\".format(accuracy_score(y_test, best_predictions))\n",
    "print \"Final F-score on the testing data: {:.4f}\".format(fbeta_score(y_test, best_predictions, beta = 0.5))"
   ]
  },
  {
   "cell_type": "markdown",
   "metadata": {
    "deletable": true,
    "editable": true
   },
   "source": [
    "### Question 5 - Final Model Evaluation\n",
    "_What is your optimized model's accuracy and F-score on the testing data? Are these scores better or worse than the unoptimized model? How do the results from your optimized model compare to the naive predictor benchmarks you found earlier in **Question 1**?_  \n",
    "**Note:** Fill in the table below with your results, and then provide discussion in the **Answer** box."
   ]
  },
  {
   "cell_type": "markdown",
   "metadata": {
    "deletable": true,
    "editable": true
   },
   "source": [
    "#### Results:\n",
    "\n",
    "|     Metric     | Benchmark Predictor | Unoptimized Model | Optimized Model |\n",
    "| :------------: | :-----------------: | :---------------: | :-------------: | \n",
    "| Accuracy Score |       0.2478        |      0.8632       |     0.8700      |\n",
    "| F-score        |       0.2917        |      0.7435       |     0.7522      |\n"
   ]
  },
  {
   "cell_type": "markdown",
   "metadata": {
    "deletable": true,
    "editable": true
   },
   "source": [
    "**Answer: **\n",
    "\n",
    "- **_What is your optimized model's accuracy and F-score on the testing data?_**\n",
    "\n",
    "|     Metric     | Optimized Model |\n",
    "| :------------: | :-------------: | \n",
    "| Accuracy Score |     0.8700      |\n",
    "| F-score        |     0.7522      |\n",
    "\n",
    "- **_Are these scores better or worse than the unoptimized model?_** \n",
    "\n",
    "Yes but only a marginal gain after grid-search CV.\n",
    "\n",
    "|     Metric     | Unoptimized Model | Optimized Model | Performance Gain(%) |\n",
    "| :------------: | :---------------: | :-------------: | :-----------------: |\n",
    "| Accuracy Score |      0.8632       |     0.8700      |        0.7          |\n",
    "| F-score        |      0.7435       |     0.7522      |        1.2          |\n",
    "\n",
    "- **_How do the results from your optimized model compare to the naive predictor benchmarks you found earlier in Question 1?_**\n",
    "\n",
    "Far more better than the naive prediction.\n",
    "\n",
    "|     Metric     | Benchmark Predictor | Optimized Model | Performance Gain(%) |\n",
    "| :------------: | :-----------------: | :-------------: | :-----------------: |\n",
    "| Accuracy Score |       0.2478        |     0.8700      |       251.1         |\n",
    "| F-score        |       0.2912        |     0.7522      |       158.3         |"
   ]
  },
  {
   "cell_type": "markdown",
   "metadata": {
    "deletable": true,
    "editable": true
   },
   "source": [
    "----\n",
    "## Feature Importance\n",
    "\n",
    "An important task when performing supervised learning on a dataset like the census data we study here is determining which features provide the most predictive power. By focusing on the relationship between only a few crucial features and the target label we simplify our understanding of the phenomenon, which is most always a useful thing to do. In the case of this project, that means we wish to identify a small number of features that most strongly predict whether an individual makes at most or more than \\$50,000.\n",
    "\n",
    "Choose a scikit-learn classifier (e.g., adaboost, random forests) that has a `feature_importance_` attribute, which is a function that ranks the importance of features according to the chosen classifier.  In the next python cell fit this classifier to training set and use this attribute to determine the top 5 most important features for the census dataset."
   ]
  },
  {
   "cell_type": "markdown",
   "metadata": {
    "deletable": true,
    "editable": true
   },
   "source": [
    "### Question 6 - Feature Relevance Observation\n",
    "When **Exploring the Data**, it was shown there are thirteen available features for each individual on record in the census data.  \n",
    "_Of these thirteen records, which five features do you believe to be most important for prediction, and in what order would you rank them and why?_"
   ]
  },
  {
   "cell_type": "markdown",
   "metadata": {
    "deletable": true,
    "editable": true
   },
   "source": [
    "**Answer:**\n",
    "\n",
    "I think the top 5 most important features are as follows, in descending order in term of feature importance:\n",
    "\n",
    "1. capital-gain;\n",
    "2. capital-loss;\n",
    "3. education_level;\n",
    "4. hours-per-week;\n",
    "5. age.\n",
    "\n",
    "I rank the above features mainly according to their relevance to income. Detailed explanations are as follows:\n",
    "\n",
    "1. capital-gain: large income from investment sources is a good indicator of richness;\n",
    "2. capital-loss: large losses from investment sources is also a good indicator of richness;\n",
    "3. education_level: Higher level of education generally indicates higher level of income;\n",
    "4. hours-per-week: Busy people generally have higher level of income\n",
    "5. age: Generally speaking, elder people tend to have higher income than young people."
   ]
  },
  {
   "cell_type": "markdown",
   "metadata": {
    "deletable": true,
    "editable": true
   },
   "source": [
    "### Implementation - Extracting Feature Importance\n",
    "Choose a `scikit-learn` supervised learning algorithm that has a `feature_importance_` attribute availble for it. This attribute is a function that ranks the importance of each feature when making predictions based on the chosen algorithm.\n",
    "\n",
    "In the code cell below, you will need to implement the following:\n",
    " - Import a supervised learning model from sklearn if it is different from the three used earlier.\n",
    " - Train the supervised model on the entire training set.\n",
    " - Extract the feature importances using `'.feature_importances_'`."
   ]
  },
  {
   "cell_type": "code",
   "execution_count": 14,
   "metadata": {
    "collapsed": false,
    "deletable": true,
    "editable": true
   },
   "outputs": [
    {
     "data": {
      "image/png": "[encoded data removed]",
      "text/plain": [
       "<matplotlib.figure.Figure at 0x7f1fdd38e450>"
      ]
     },
     "metadata": {},
     "output_type": "display_data"
    }
   ],
   "source": [
    "# TODO: Import a supervised learning model that has 'feature_importances_'\n",
    "from sklearn.ensemble import AdaBoostClassifier\n",
    "\n",
    "# TODO: Train the supervised model on the training set \n",
    "model = AdaBoostClassifier(random_state=42).fit(X_train, y_train)\n",
    "\n",
    "# TODO: Extract the feature importances\n",
    "importances = model.feature_importances_\n",
    "\n",
    "# Plot\n",
    "vs.feature_plot(importances, X_train, y_train)"
   ]
  },
  {
   "cell_type": "markdown",
   "metadata": {
    "deletable": true,
    "editable": true
   },
   "source": [
    "### Question 7 - Extracting Feature Importance\n",
    "\n",
    "Observe the visualization created above which displays the five most relevant features for predicting if an individual makes at most or above \\$50,000.  \n",
    "_How do these five features compare to the five features you discussed in **Question 6**? If you were close to the same answer, how does this visualization confirm your thoughts? If you were not close, why do you think these features are more relevant?_"
   ]
  },
  {
   "cell_type": "markdown",
   "metadata": {
    "deletable": true,
    "editable": true
   },
   "source": [
    "**Answer:**\n",
    "\n",
    "- **_How do these five features compare to the five features you discussed in Question 6?_**\n",
    "\n",
    "My guess achieved 4 out of 5 hits(capital-gain, capital-loss, hours-per-week and age), while was wrong about 'education_level' \n",
    "\n",
    "The feature importance plot indicates the most important feature is 'capital-loss' which is different from my initial guess 'capital-gain'. I think the two features are closely correlated since large deviation of both 'capital-gain' and 'capital-loss' are good indicator of richness.\n",
    "\n",
    "I was wrong about 'education_level'. I think 'education-num' might be a better indicator of the quality of the education received by the candidate."
   ]
  },
  {
   "cell_type": "markdown",
   "metadata": {
    "deletable": true,
    "editable": true
   },
   "source": [
    "### Feature Selection\n",
    "How does a model perform if we only use a subset of all the available features in the data? With less features required to train, the expectation is that training and prediction time is much lower — at the cost of performance metrics. From the visualization above, we see that the top five most important features contribute more than half of the importance of **all** features present in the data. This hints that we can attempt to *reduce the feature space* and simplify the information required for the model to learn. The code cell below will use the same optimized model you found earlier, and train it on the same training set *with only the top five important features*. "
   ]
  },
  {
   "cell_type": "code",
   "execution_count": 15,
   "metadata": {
    "collapsed": false,
    "deletable": true,
    "editable": true
   },
   "outputs": [
    {
     "name": "stdout",
     "output_type": "stream",
     "text": [
      "1 loop, best of 3: 2.6 s per loop\n",
      "1 loop, best of 3: 352 ms per loop\n",
      "Final Model trained on full data\n",
      "------\n",
      "Accuracy on testing data: 0.8700\n",
      "F-score on testing data: 0.7522\n",
      "\n",
      "Final Model trained on reduced data\n",
      "------\n",
      "Accuracy on testing data: 0.8428\n",
      "F-score on testing data: 0.7004\n"
     ]
    }
   ],
   "source": [
    "# Import functionality for cloning a model\n",
    "from sklearn.base import clone\n",
    "\n",
    "# Reduce the feature space\n",
    "X_train_reduced = X_train[X_train.columns.values[(np.argsort(importances)[::-1])[:5]]]\n",
    "X_test_reduced = X_test[X_test.columns.values[(np.argsort(importances)[::-1])[:5]]]\n",
    "\n",
    "# Training time of best estimator:\n",
    "%timeit best_clf.fit(X_train, y_train)\n",
    "\n",
    "# Train on the \"best\" model found from grid search earlier\n",
    "clf = (clone(best_clf))\n",
    "\n",
    "%timeit clf.fit(X_train_reduced, y_train)\n",
    "\n",
    "# Make new predictions\n",
    "reduced_predictions = clf.predict(X_test_reduced)\n",
    "\n",
    "# Report scores from the final model using both versions of data\n",
    "print \"Final Model trained on full data\\n------\"\n",
    "print \"Accuracy on testing data: {:.4f}\".format(accuracy_score(y_test, best_predictions))\n",
    "print \"F-score on testing data: {:.4f}\".format(fbeta_score(y_test, best_predictions, beta = 0.5))\n",
    "print \"\\nFinal Model trained on reduced data\\n------\"\n",
    "print \"Accuracy on testing data: {:.4f}\".format(accuracy_score(y_test, reduced_predictions))\n",
    "print \"F-score on testing data: {:.4f}\".format(fbeta_score(y_test, reduced_predictions, beta = 0.5))"
   ]
  },
  {
   "cell_type": "markdown",
   "metadata": {
    "deletable": true,
    "editable": true
   },
   "source": [
    "### Question 8 - Effects of Feature Selection\n",
    "*How does the final model's F-score and accuracy score on the reduced data using only five features compare to those same scores when all features are used?*  \n",
    "*If training time was a factor, would you consider using the reduced data as your training set?*"
   ]
  },
  {
   "cell_type": "markdown",
   "metadata": {
    "deletable": true,
    "editable": true
   },
   "source": [
    "**Answer:**\n",
    "\n",
    "- **_How does the final model's F-score and accuracy score on the reduced data using only five features compare to those same scores when all features are used?_**\n",
    "\n",
    "The performance of the model trained on reduced feature space suffers only a tolerable drop(**3.1% in accuracy and 6.9% in f-beta score**).\n",
    "\n",
    "|     Metric     | Full Feature Model | Reduced Feature Space Model | Performance Drop(%) |\n",
    "| :------------: | :----------------: | :-------------------------: | :-----------------: |\n",
    "| Accuracy Score |      0.8700        |            0.8428           |        3.1          |\n",
    "| F-score        |      0.7522        |            0.7004           |        6.9          |\n",
    "\n",
    "- **_If training time was a factor, would you consider using the reduced data as your training set?_**\n",
    "\n",
    "Yes because we can attain about 6x speed up at the cost of only a tolerable performance drop.\n",
    "\n",
    "|       Metric       | Reduced Feature Space Model | Full Feature Model | Performance Gain(%) |\n",
    "| :--------------:   | :-------------------------: | :----------------: | :-----------------: |\n",
    "| Training Time(ms)  |            352              |        2600        |        638.6        |"
   ]
  },
  {
   "cell_type": "markdown",
   "metadata": {
    "deletable": true,
    "editable": true
   },
   "source": [
    "> **Note**: Once you have completed all of the code implementations and successfully answered each question above, you may finalize your work by exporting the iPython Notebook as an HTML document. You can do this by using the menu above and navigating to  \n",
    "**File -> Download as -> HTML (.html)**. Include the finished document along with this notebook as your submission."
   ]
  }
 ],
 "metadata": {
  "kernelspec": {
   "display_name": "Python 3",
   "language": "python",
   "name": "python3"
  },
  "language_info": {
   "codemirror_mode": {
    "name": "ipython",
    "version": 3
   },
   "file_extension": ".py",
   "mimetype": "text/x-python",
   "name": "python",
   "nbconvert_exporter": "python",
   "pygments_lexer": "ipython3",
   "version": "3.6.0"
  }
 },
 "nbformat": 4,
 "nbformat_minor": 0
}
